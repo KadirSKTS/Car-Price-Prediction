{
 "cells": [
  {
   "cell_type": "code",
   "execution_count": 84,
   "id": "7b606b65",
   "metadata": {},
   "outputs": [],
   "source": [
    "import pandas as pd\n",
    "import numpy as np\n",
    "import seaborn as sbn\n",
    "import matplotlib.pyplot as plt"
   ]
  },
  {
   "cell_type": "code",
   "execution_count": 85,
   "id": "05e31b6b",
   "metadata": {},
   "outputs": [],
   "source": [
    "dataFrame = pd.read_excel(\"merc.xlsx\")"
   ]
  },
  {
   "cell_type": "code",
   "execution_count": 86,
   "id": "506804a2",
   "metadata": {},
   "outputs": [
    {
     "data": {
      "text/html": [
       "<div>\n",
       "<style scoped>\n",
       "    .dataframe tbody tr th:only-of-type {\n",
       "        vertical-align: middle;\n",
       "    }\n",
       "\n",
       "    .dataframe tbody tr th {\n",
       "        vertical-align: top;\n",
       "    }\n",
       "\n",
       "    .dataframe thead th {\n",
       "        text-align: right;\n",
       "    }\n",
       "</style>\n",
       "<table border=\"1\" class=\"dataframe\">\n",
       "  <thead>\n",
       "    <tr style=\"text-align: right;\">\n",
       "      <th></th>\n",
       "      <th>year</th>\n",
       "      <th>price</th>\n",
       "      <th>transmission</th>\n",
       "      <th>mileage</th>\n",
       "      <th>tax</th>\n",
       "      <th>mpg</th>\n",
       "      <th>engineSize</th>\n",
       "    </tr>\n",
       "  </thead>\n",
       "  <tbody>\n",
       "    <tr>\n",
       "      <th>0</th>\n",
       "      <td>2005</td>\n",
       "      <td>5200</td>\n",
       "      <td>Automatic</td>\n",
       "      <td>63000</td>\n",
       "      <td>325</td>\n",
       "      <td>32.1</td>\n",
       "      <td>1.8</td>\n",
       "    </tr>\n",
       "    <tr>\n",
       "      <th>1</th>\n",
       "      <td>2017</td>\n",
       "      <td>34948</td>\n",
       "      <td>Automatic</td>\n",
       "      <td>27000</td>\n",
       "      <td>20</td>\n",
       "      <td>61.4</td>\n",
       "      <td>2.1</td>\n",
       "    </tr>\n",
       "    <tr>\n",
       "      <th>2</th>\n",
       "      <td>2016</td>\n",
       "      <td>49948</td>\n",
       "      <td>Automatic</td>\n",
       "      <td>6200</td>\n",
       "      <td>555</td>\n",
       "      <td>28.0</td>\n",
       "      <td>5.5</td>\n",
       "    </tr>\n",
       "    <tr>\n",
       "      <th>3</th>\n",
       "      <td>2016</td>\n",
       "      <td>61948</td>\n",
       "      <td>Automatic</td>\n",
       "      <td>16000</td>\n",
       "      <td>325</td>\n",
       "      <td>30.4</td>\n",
       "      <td>4.0</td>\n",
       "    </tr>\n",
       "    <tr>\n",
       "      <th>4</th>\n",
       "      <td>2016</td>\n",
       "      <td>73948</td>\n",
       "      <td>Automatic</td>\n",
       "      <td>4000</td>\n",
       "      <td>325</td>\n",
       "      <td>30.1</td>\n",
       "      <td>4.0</td>\n",
       "    </tr>\n",
       "  </tbody>\n",
       "</table>\n",
       "</div>"
      ],
      "text/plain": [
       "   year  price transmission  mileage  tax   mpg  engineSize\n",
       "0  2005   5200    Automatic    63000  325  32.1         1.8\n",
       "1  2017  34948    Automatic    27000   20  61.4         2.1\n",
       "2  2016  49948    Automatic     6200  555  28.0         5.5\n",
       "3  2016  61948    Automatic    16000  325  30.4         4.0\n",
       "4  2016  73948    Automatic     4000  325  30.1         4.0"
      ]
     },
     "execution_count": 86,
     "metadata": {},
     "output_type": "execute_result"
    }
   ],
   "source": [
    "dataFrame.head()"
   ]
  },
  {
   "cell_type": "code",
   "execution_count": 87,
   "id": "67a08122",
   "metadata": {},
   "outputs": [
    {
     "data": {
      "text/html": [
       "<div>\n",
       "<style scoped>\n",
       "    .dataframe tbody tr th:only-of-type {\n",
       "        vertical-align: middle;\n",
       "    }\n",
       "\n",
       "    .dataframe tbody tr th {\n",
       "        vertical-align: top;\n",
       "    }\n",
       "\n",
       "    .dataframe thead th {\n",
       "        text-align: right;\n",
       "    }\n",
       "</style>\n",
       "<table border=\"1\" class=\"dataframe\">\n",
       "  <thead>\n",
       "    <tr style=\"text-align: right;\">\n",
       "      <th></th>\n",
       "      <th>year</th>\n",
       "      <th>price</th>\n",
       "      <th>mileage</th>\n",
       "      <th>tax</th>\n",
       "      <th>mpg</th>\n",
       "      <th>engineSize</th>\n",
       "    </tr>\n",
       "  </thead>\n",
       "  <tbody>\n",
       "    <tr>\n",
       "      <th>count</th>\n",
       "      <td>13119.000000</td>\n",
       "      <td>13119.000000</td>\n",
       "      <td>13119.000000</td>\n",
       "      <td>13119.000000</td>\n",
       "      <td>13119.000000</td>\n",
       "      <td>13119.000000</td>\n",
       "    </tr>\n",
       "    <tr>\n",
       "      <th>mean</th>\n",
       "      <td>2017.296288</td>\n",
       "      <td>24698.596920</td>\n",
       "      <td>21949.559037</td>\n",
       "      <td>129.972178</td>\n",
       "      <td>55.155843</td>\n",
       "      <td>2.071530</td>\n",
       "    </tr>\n",
       "    <tr>\n",
       "      <th>std</th>\n",
       "      <td>2.224709</td>\n",
       "      <td>11842.675542</td>\n",
       "      <td>21176.512267</td>\n",
       "      <td>65.260286</td>\n",
       "      <td>15.220082</td>\n",
       "      <td>0.572426</td>\n",
       "    </tr>\n",
       "    <tr>\n",
       "      <th>min</th>\n",
       "      <td>1970.000000</td>\n",
       "      <td>650.000000</td>\n",
       "      <td>1.000000</td>\n",
       "      <td>0.000000</td>\n",
       "      <td>1.100000</td>\n",
       "      <td>0.000000</td>\n",
       "    </tr>\n",
       "    <tr>\n",
       "      <th>25%</th>\n",
       "      <td>2016.000000</td>\n",
       "      <td>17450.000000</td>\n",
       "      <td>6097.500000</td>\n",
       "      <td>125.000000</td>\n",
       "      <td>45.600000</td>\n",
       "      <td>1.800000</td>\n",
       "    </tr>\n",
       "    <tr>\n",
       "      <th>50%</th>\n",
       "      <td>2018.000000</td>\n",
       "      <td>22480.000000</td>\n",
       "      <td>15189.000000</td>\n",
       "      <td>145.000000</td>\n",
       "      <td>56.500000</td>\n",
       "      <td>2.000000</td>\n",
       "    </tr>\n",
       "    <tr>\n",
       "      <th>75%</th>\n",
       "      <td>2019.000000</td>\n",
       "      <td>28980.000000</td>\n",
       "      <td>31779.500000</td>\n",
       "      <td>145.000000</td>\n",
       "      <td>64.200000</td>\n",
       "      <td>2.100000</td>\n",
       "    </tr>\n",
       "    <tr>\n",
       "      <th>max</th>\n",
       "      <td>2020.000000</td>\n",
       "      <td>159999.000000</td>\n",
       "      <td>259000.000000</td>\n",
       "      <td>580.000000</td>\n",
       "      <td>217.300000</td>\n",
       "      <td>6.200000</td>\n",
       "    </tr>\n",
       "  </tbody>\n",
       "</table>\n",
       "</div>"
      ],
      "text/plain": [
       "               year          price        mileage           tax           mpg  \\\n",
       "count  13119.000000   13119.000000   13119.000000  13119.000000  13119.000000   \n",
       "mean    2017.296288   24698.596920   21949.559037    129.972178     55.155843   \n",
       "std        2.224709   11842.675542   21176.512267     65.260286     15.220082   \n",
       "min     1970.000000     650.000000       1.000000      0.000000      1.100000   \n",
       "25%     2016.000000   17450.000000    6097.500000    125.000000     45.600000   \n",
       "50%     2018.000000   22480.000000   15189.000000    145.000000     56.500000   \n",
       "75%     2019.000000   28980.000000   31779.500000    145.000000     64.200000   \n",
       "max     2020.000000  159999.000000  259000.000000    580.000000    217.300000   \n",
       "\n",
       "         engineSize  \n",
       "count  13119.000000  \n",
       "mean       2.071530  \n",
       "std        0.572426  \n",
       "min        0.000000  \n",
       "25%        1.800000  \n",
       "50%        2.000000  \n",
       "75%        2.100000  \n",
       "max        6.200000  "
      ]
     },
     "execution_count": 87,
     "metadata": {},
     "output_type": "execute_result"
    }
   ],
   "source": [
    "dataFrame.describe()"
   ]
  },
  {
   "cell_type": "code",
   "execution_count": 88,
   "id": "85d8cd19",
   "metadata": {},
   "outputs": [
    {
     "data": {
      "text/plain": [
       "year            0\n",
       "price           0\n",
       "transmission    0\n",
       "mileage         0\n",
       "tax             0\n",
       "mpg             0\n",
       "engineSize      0\n",
       "dtype: int64"
      ]
     },
     "execution_count": 88,
     "metadata": {},
     "output_type": "execute_result"
    }
   ],
   "source": [
    "dataFrame.isnull().sum()  #herhangi bir kolonda bos verivar mı onu kontrol eder"
   ]
  },
  {
   "cell_type": "code",
   "execution_count": 89,
   "id": "a9a87a6b",
   "metadata": {},
   "outputs": [
    {
     "name": "stderr",
     "output_type": "stream",
     "text": [
      "C:\\Users\\apple\\AppData\\Local\\Temp\\ipykernel_15508\\686912093.py:2: UserWarning: \n",
      "\n",
      "`distplot` is a deprecated function and will be removed in seaborn v0.14.0.\n",
      "\n",
      "Please adapt your code to use either `displot` (a figure-level function with\n",
      "similar flexibility) or `histplot` (an axes-level function for histograms).\n",
      "\n",
      "For a guide to updating your code to use the new functions, please see\n",
      "https://gist.github.com/mwaskom/de44147ed2974457ad6372750bbe5751\n",
      "\n",
      "  sbn.distplot(dataFrame[\"price\"])\n"
     ]
    },
    {
     "data": {
      "text/plain": [
       "<Axes: xlabel='price', ylabel='Density'>"
      ]
     },
     "execution_count": 89,
     "metadata": {},
     "output_type": "execute_result"
    },
    {
     "data": {
      "image/png": "[encoded data removed]",
      "text/plain": [
       "<Figure size 700x500 with 1 Axes>"
      ]
     },
     "metadata": {},
     "output_type": "display_data"
    }
   ],
   "source": [
    "plt.figure(figsize=(7,5))\n",
    "sbn.distplot(dataFrame[\"price\"])"
   ]
  },
  {
   "cell_type": "code",
   "execution_count": 90,
   "id": "d6a12f32",
   "metadata": {},
   "outputs": [
    {
     "data": {
      "text/plain": [
       "<Axes: xlabel='year', ylabel='count'>"
      ]
     },
     "execution_count": 90,
     "metadata": {},
     "output_type": "execute_result"
    },
    {
     "data": {
      "image/png": "[encoded data removed]",
      "text/plain": [
       "<Figure size 1500x700 with 1 Axes>"
      ]
     },
     "metadata": {},
     "output_type": "display_data"
    }
   ],
   "source": [
    "plt.figure(figsize=(15,7))\n",
    "sbn.countplot(dataFrame,x= dataFrame[\"year\"])"
   ]
  },
  {
   "cell_type": "code",
   "execution_count": 91,
   "id": "2e24f1da",
   "metadata": {},
   "outputs": [
    {
     "name": "stderr",
     "output_type": "stream",
     "text": [
      "C:\\Users\\apple\\AppData\\Local\\Temp\\ipykernel_15508\\458793014.py:1: FutureWarning: The default value of numeric_only in DataFrame.corr is deprecated. In a future version, it will default to False. Select only valid columns or specify the value of numeric_only to silence this warning.\n",
      "  dataFrame.corr()  #özellikler arasındaki korelasyonu gösteriyo\n"
     ]
    },
    {
     "data": {
      "text/html": [
       "<div>\n",
       "<style scoped>\n",
       "    .dataframe tbody tr th:only-of-type {\n",
       "        vertical-align: middle;\n",
       "    }\n",
       "\n",
       "    .dataframe tbody tr th {\n",
       "        vertical-align: top;\n",
       "    }\n",
       "\n",
       "    .dataframe thead th {\n",
       "        text-align: right;\n",
       "    }\n",
       "</style>\n",
       "<table border=\"1\" class=\"dataframe\">\n",
       "  <thead>\n",
       "    <tr style=\"text-align: right;\">\n",
       "      <th></th>\n",
       "      <th>year</th>\n",
       "      <th>price</th>\n",
       "      <th>mileage</th>\n",
       "      <th>tax</th>\n",
       "      <th>mpg</th>\n",
       "      <th>engineSize</th>\n",
       "    </tr>\n",
       "  </thead>\n",
       "  <tbody>\n",
       "    <tr>\n",
       "      <th>year</th>\n",
       "      <td>1.000000</td>\n",
       "      <td>0.520712</td>\n",
       "      <td>-0.738027</td>\n",
       "      <td>0.012480</td>\n",
       "      <td>-0.094626</td>\n",
       "      <td>-0.142147</td>\n",
       "    </tr>\n",
       "    <tr>\n",
       "      <th>price</th>\n",
       "      <td>0.520712</td>\n",
       "      <td>1.000000</td>\n",
       "      <td>-0.537214</td>\n",
       "      <td>0.268717</td>\n",
       "      <td>-0.438445</td>\n",
       "      <td>0.516126</td>\n",
       "    </tr>\n",
       "    <tr>\n",
       "      <th>mileage</th>\n",
       "      <td>-0.738027</td>\n",
       "      <td>-0.537214</td>\n",
       "      <td>1.000000</td>\n",
       "      <td>-0.160223</td>\n",
       "      <td>0.202850</td>\n",
       "      <td>0.063652</td>\n",
       "    </tr>\n",
       "    <tr>\n",
       "      <th>tax</th>\n",
       "      <td>0.012480</td>\n",
       "      <td>0.268717</td>\n",
       "      <td>-0.160223</td>\n",
       "      <td>1.000000</td>\n",
       "      <td>-0.513742</td>\n",
       "      <td>0.338341</td>\n",
       "    </tr>\n",
       "    <tr>\n",
       "      <th>mpg</th>\n",
       "      <td>-0.094626</td>\n",
       "      <td>-0.438445</td>\n",
       "      <td>0.202850</td>\n",
       "      <td>-0.513742</td>\n",
       "      <td>1.000000</td>\n",
       "      <td>-0.339862</td>\n",
       "    </tr>\n",
       "    <tr>\n",
       "      <th>engineSize</th>\n",
       "      <td>-0.142147</td>\n",
       "      <td>0.516126</td>\n",
       "      <td>0.063652</td>\n",
       "      <td>0.338341</td>\n",
       "      <td>-0.339862</td>\n",
       "      <td>1.000000</td>\n",
       "    </tr>\n",
       "  </tbody>\n",
       "</table>\n",
       "</div>"
      ],
      "text/plain": [
       "                year     price   mileage       tax       mpg  engineSize\n",
       "year        1.000000  0.520712 -0.738027  0.012480 -0.094626   -0.142147\n",
       "price       0.520712  1.000000 -0.537214  0.268717 -0.438445    0.516126\n",
       "mileage    -0.738027 -0.537214  1.000000 -0.160223  0.202850    0.063652\n",
       "tax         0.012480  0.268717 -0.160223  1.000000 -0.513742    0.338341\n",
       "mpg        -0.094626 -0.438445  0.202850 -0.513742  1.000000   -0.339862\n",
       "engineSize -0.142147  0.516126  0.063652  0.338341 -0.339862    1.000000"
      ]
     },
     "execution_count": 91,
     "metadata": {},
     "output_type": "execute_result"
    }
   ],
   "source": [
    "dataFrame.corr()  #özellikler arasındaki korelasyonu gösteriyo"
   ]
  },
  {
   "cell_type": "code",
   "execution_count": 92,
   "id": "2cd5a983",
   "metadata": {},
   "outputs": [
    {
     "name": "stderr",
     "output_type": "stream",
     "text": [
      "C:\\Users\\apple\\AppData\\Local\\Temp\\ipykernel_15508\\1957411132.py:1: FutureWarning: The default value of numeric_only in DataFrame.corr is deprecated. In a future version, it will default to False. Select only valid columns or specify the value of numeric_only to silence this warning.\n",
      "  dataFrame.corr()[\"price\"]\n"
     ]
    },
    {
     "data": {
      "text/plain": [
       "year          0.520712\n",
       "price         1.000000\n",
       "mileage      -0.537214\n",
       "tax           0.268717\n",
       "mpg          -0.438445\n",
       "engineSize    0.516126\n",
       "Name: price, dtype: float64"
      ]
     },
     "execution_count": 92,
     "metadata": {},
     "output_type": "execute_result"
    }
   ],
   "source": [
    "dataFrame.corr()[\"price\"]"
   ]
  },
  {
   "cell_type": "code",
   "execution_count": 93,
   "id": "76a60726",
   "metadata": {},
   "outputs": [
    {
     "name": "stderr",
     "output_type": "stream",
     "text": [
      "C:\\Users\\apple\\AppData\\Local\\Temp\\ipykernel_15508\\2810940293.py:1: FutureWarning: The default value of numeric_only in DataFrame.corr is deprecated. In a future version, it will default to False. Select only valid columns or specify the value of numeric_only to silence this warning.\n",
      "  x = dataFrame.corr().sort_values(\"price\")\n"
     ]
    }
   ],
   "source": [
    "x = dataFrame.corr().sort_values(\"price\")"
   ]
  },
  {
   "cell_type": "code",
   "execution_count": 94,
   "id": "594c38d9",
   "metadata": {},
   "outputs": [
    {
     "data": {
      "text/plain": [
       "mileage      -0.537214\n",
       "mpg          -0.438445\n",
       "tax           0.268717\n",
       "engineSize    0.516126\n",
       "year          0.520712\n",
       "price         1.000000\n",
       "Name: price, dtype: float64"
      ]
     },
     "execution_count": 94,
     "metadata": {},
     "output_type": "execute_result"
    }
   ],
   "source": [
    "x[\"price\"]"
   ]
  },
  {
   "cell_type": "code",
   "execution_count": 95,
   "id": "7909ef53",
   "metadata": {},
   "outputs": [
    {
     "data": {
      "text/plain": [
       "<Axes: xlabel='mileage', ylabel='price'>"
      ]
     },
     "execution_count": 95,
     "metadata": {},
     "output_type": "execute_result"
    },
    {
     "data": {
      "image/png": "[encoded data removed]",
      "text/plain": [
       "<Figure size 640x480 with 1 Axes>"
      ]
     },
     "metadata": {},
     "output_type": "display_data"
    }
   ],
   "source": [
    "sbn.scatterplot(x =\"mileage\", y = \"price\", data = dataFrame)"
   ]
  },
  {
   "cell_type": "code",
   "execution_count": 96,
   "id": "b18c4b69",
   "metadata": {},
   "outputs": [],
   "source": [
    "yeniDF = dataFrame.sort_values(\"price\",ascending = False).iloc[130:] #verilerin en yüksek %1i atıldı, yeni DF ye kaydedildi"
   ]
  },
  {
   "cell_type": "code",
   "execution_count": 97,
   "id": "a199edbe",
   "metadata": {
    "scrolled": true
   },
   "outputs": [
    {
     "name": "stderr",
     "output_type": "stream",
     "text": [
      "C:\\Users\\apple\\AppData\\Local\\Temp\\ipykernel_15508\\3547958106.py:2: UserWarning: \n",
      "\n",
      "`distplot` is a deprecated function and will be removed in seaborn v0.14.0.\n",
      "\n",
      "Please adapt your code to use either `displot` (a figure-level function with\n",
      "similar flexibility) or `histplot` (an axes-level function for histograms).\n",
      "\n",
      "For a guide to updating your code to use the new functions, please see\n",
      "https://gist.github.com/mwaskom/de44147ed2974457ad6372750bbe5751\n",
      "\n",
      "  sbn.distplot(yeniDF[\"price\"])\n"
     ]
    },
    {
     "data": {
      "text/plain": [
       "<Axes: xlabel='price', ylabel='Density'>"
      ]
     },
     "execution_count": 97,
     "metadata": {},
     "output_type": "execute_result"
    },
    {
     "data": {
      "image/png": "[encoded data removed]",
      "text/plain": [
       "<Figure size 700x500 with 1 Axes>"
      ]
     },
     "metadata": {},
     "output_type": "display_data"
    }
   ],
   "source": [
    "plt.figure(figsize=(7,5))\n",
    "sbn.distplot(yeniDF[\"price\"])"
   ]
  },
  {
   "cell_type": "code",
   "execution_count": 98,
   "id": "8d70e385",
   "metadata": {
    "scrolled": true
   },
   "outputs": [
    {
     "name": "stderr",
     "output_type": "stream",
     "text": [
      "C:\\Users\\apple\\AppData\\Local\\Temp\\ipykernel_15508\\347126867.py:1: FutureWarning: The default value of numeric_only in DataFrameGroupBy.mean is deprecated. In a future version, numeric_only will default to False. Either specify numeric_only or select only columns which should be valid for the function.\n",
      "  dataFrame.groupby(\"year\").mean()[\"price\"] # düzenlenmemiş veri\n"
     ]
    },
    {
     "data": {
      "text/plain": [
       "year\n",
       "1970    24999.000000\n",
       "1997     9995.000000\n",
       "1998     8605.000000\n",
       "1999     5995.000000\n",
       "2000     5743.333333\n",
       "2001     4957.900000\n",
       "2002     5820.444444\n",
       "2003     4878.000000\n",
       "2004     4727.615385\n",
       "2005     4426.111111\n",
       "2006     4036.875000\n",
       "2007     5136.045455\n",
       "2008     6967.437500\n",
       "2009     6166.764706\n",
       "2010     8308.473684\n",
       "2011    12624.894737\n",
       "2012    10845.140351\n",
       "2013    11939.842466\n",
       "2014    14042.936864\n",
       "2015    16731.780020\n",
       "2016    19307.892948\n",
       "2017    21514.307854\n",
       "2018    25720.162918\n",
       "2019    31290.020865\n",
       "2020    35433.282337\n",
       "Name: price, dtype: float64"
      ]
     },
     "execution_count": 98,
     "metadata": {},
     "output_type": "execute_result"
    }
   ],
   "source": [
    "dataFrame.groupby(\"year\").mean()[\"price\"] # düzenlenmemiş veri"
   ]
  },
  {
   "cell_type": "code",
   "execution_count": 99,
   "id": "ab61163b",
   "metadata": {
    "scrolled": true
   },
   "outputs": [
    {
     "name": "stderr",
     "output_type": "stream",
     "text": [
      "C:\\Users\\apple\\AppData\\Local\\Temp\\ipykernel_15508\\3488332572.py:1: FutureWarning: The default value of numeric_only in DataFrameGroupBy.mean is deprecated. In a future version, numeric_only will default to False. Either specify numeric_only or select only columns which should be valid for the function.\n",
      "  yeniDF.groupby(\"year\").mean()[\"price\"] # 1970 yılında üretilen araba sansıl 25k paunda aq onu atmamız lazım\n"
     ]
    },
    {
     "data": {
      "text/plain": [
       "year\n",
       "1970    24999.000000\n",
       "1997     9995.000000\n",
       "1998     8605.000000\n",
       "1999     5995.000000\n",
       "2000     5743.333333\n",
       "2001     4957.900000\n",
       "2002     5820.444444\n",
       "2003     4878.000000\n",
       "2004     4727.615385\n",
       "2005     4426.111111\n",
       "2006     4036.875000\n",
       "2007     5136.045455\n",
       "2008     6967.437500\n",
       "2009     6166.764706\n",
       "2010     8308.473684\n",
       "2011     8913.459459\n",
       "2012    10845.140351\n",
       "2013    11939.842466\n",
       "2014    14042.936864\n",
       "2015    16647.822222\n",
       "2016    19223.558943\n",
       "2017    21356.280421\n",
       "2018    24800.844506\n",
       "2019    30289.524832\n",
       "2020    34279.972973\n",
       "Name: price, dtype: float64"
      ]
     },
     "execution_count": 99,
     "metadata": {},
     "output_type": "execute_result"
    }
   ],
   "source": [
    "yeniDF.groupby(\"year\").mean()[\"price\"] # 1970 yılında üretilen araba sansıl 25k paunda aq onu atmamız lazım"
   ]
  },
  {
   "cell_type": "code",
   "execution_count": 100,
   "id": "a5178585",
   "metadata": {},
   "outputs": [],
   "source": [
    "dataFrame = yeniDF"
   ]
  },
  {
   "cell_type": "code",
   "execution_count": 101,
   "id": "26c00124",
   "metadata": {},
   "outputs": [
    {
     "data": {
      "text/html": [
       "<div>\n",
       "<style scoped>\n",
       "    .dataframe tbody tr th:only-of-type {\n",
       "        vertical-align: middle;\n",
       "    }\n",
       "\n",
       "    .dataframe tbody tr th {\n",
       "        vertical-align: top;\n",
       "    }\n",
       "\n",
       "    .dataframe thead th {\n",
       "        text-align: right;\n",
       "    }\n",
       "</style>\n",
       "<table border=\"1\" class=\"dataframe\">\n",
       "  <thead>\n",
       "    <tr style=\"text-align: right;\">\n",
       "      <th></th>\n",
       "      <th>year</th>\n",
       "      <th>price</th>\n",
       "      <th>transmission</th>\n",
       "      <th>mileage</th>\n",
       "      <th>tax</th>\n",
       "      <th>mpg</th>\n",
       "      <th>engineSize</th>\n",
       "    </tr>\n",
       "  </thead>\n",
       "  <tbody>\n",
       "    <tr>\n",
       "      <th>1932</th>\n",
       "      <td>2020</td>\n",
       "      <td>65995</td>\n",
       "      <td>Semi-Auto</td>\n",
       "      <td>200</td>\n",
       "      <td>145</td>\n",
       "      <td>31.7</td>\n",
       "      <td>3.0</td>\n",
       "    </tr>\n",
       "    <tr>\n",
       "      <th>6177</th>\n",
       "      <td>2019</td>\n",
       "      <td>65990</td>\n",
       "      <td>Semi-Auto</td>\n",
       "      <td>5076</td>\n",
       "      <td>150</td>\n",
       "      <td>30.4</td>\n",
       "      <td>3.0</td>\n",
       "    </tr>\n",
       "    <tr>\n",
       "      <th>5779</th>\n",
       "      <td>2020</td>\n",
       "      <td>65990</td>\n",
       "      <td>Semi-Auto</td>\n",
       "      <td>999</td>\n",
       "      <td>145</td>\n",
       "      <td>28.0</td>\n",
       "      <td>4.0</td>\n",
       "    </tr>\n",
       "    <tr>\n",
       "      <th>3191</th>\n",
       "      <td>2020</td>\n",
       "      <td>65980</td>\n",
       "      <td>Semi-Auto</td>\n",
       "      <td>3999</td>\n",
       "      <td>145</td>\n",
       "      <td>28.0</td>\n",
       "      <td>4.0</td>\n",
       "    </tr>\n",
       "    <tr>\n",
       "      <th>4727</th>\n",
       "      <td>2019</td>\n",
       "      <td>65000</td>\n",
       "      <td>Semi-Auto</td>\n",
       "      <td>3398</td>\n",
       "      <td>145</td>\n",
       "      <td>27.2</td>\n",
       "      <td>4.0</td>\n",
       "    </tr>\n",
       "    <tr>\n",
       "      <th>...</th>\n",
       "      <td>...</td>\n",
       "      <td>...</td>\n",
       "      <td>...</td>\n",
       "      <td>...</td>\n",
       "      <td>...</td>\n",
       "      <td>...</td>\n",
       "      <td>...</td>\n",
       "    </tr>\n",
       "    <tr>\n",
       "      <th>11549</th>\n",
       "      <td>2002</td>\n",
       "      <td>1495</td>\n",
       "      <td>Automatic</td>\n",
       "      <td>13800</td>\n",
       "      <td>305</td>\n",
       "      <td>39.8</td>\n",
       "      <td>2.7</td>\n",
       "    </tr>\n",
       "    <tr>\n",
       "      <th>12594</th>\n",
       "      <td>2004</td>\n",
       "      <td>1495</td>\n",
       "      <td>Manual</td>\n",
       "      <td>119000</td>\n",
       "      <td>300</td>\n",
       "      <td>34.5</td>\n",
       "      <td>1.8</td>\n",
       "    </tr>\n",
       "    <tr>\n",
       "      <th>11765</th>\n",
       "      <td>2000</td>\n",
       "      <td>1490</td>\n",
       "      <td>Automatic</td>\n",
       "      <td>87000</td>\n",
       "      <td>265</td>\n",
       "      <td>27.2</td>\n",
       "      <td>3.2</td>\n",
       "    </tr>\n",
       "    <tr>\n",
       "      <th>12008</th>\n",
       "      <td>2010</td>\n",
       "      <td>1350</td>\n",
       "      <td>Manual</td>\n",
       "      <td>116126</td>\n",
       "      <td>145</td>\n",
       "      <td>54.3</td>\n",
       "      <td>2.0</td>\n",
       "    </tr>\n",
       "    <tr>\n",
       "      <th>11816</th>\n",
       "      <td>2003</td>\n",
       "      <td>650</td>\n",
       "      <td>Manual</td>\n",
       "      <td>109090</td>\n",
       "      <td>235</td>\n",
       "      <td>40.0</td>\n",
       "      <td>1.4</td>\n",
       "    </tr>\n",
       "  </tbody>\n",
       "</table>\n",
       "<p>12989 rows × 7 columns</p>\n",
       "</div>"
      ],
      "text/plain": [
       "       year  price transmission  mileage  tax   mpg  engineSize\n",
       "1932   2020  65995    Semi-Auto      200  145  31.7         3.0\n",
       "6177   2019  65990    Semi-Auto     5076  150  30.4         3.0\n",
       "5779   2020  65990    Semi-Auto      999  145  28.0         4.0\n",
       "3191   2020  65980    Semi-Auto     3999  145  28.0         4.0\n",
       "4727   2019  65000    Semi-Auto     3398  145  27.2         4.0\n",
       "...     ...    ...          ...      ...  ...   ...         ...\n",
       "11549  2002   1495    Automatic    13800  305  39.8         2.7\n",
       "12594  2004   1495       Manual   119000  300  34.5         1.8\n",
       "11765  2000   1490    Automatic    87000  265  27.2         3.2\n",
       "12008  2010   1350       Manual   116126  145  54.3         2.0\n",
       "11816  2003    650       Manual   109090  235  40.0         1.4\n",
       "\n",
       "[12989 rows x 7 columns]"
      ]
     },
     "execution_count": 101,
     "metadata": {},
     "output_type": "execute_result"
    }
   ],
   "source": [
    "dataFrame"
   ]
  },
  {
   "cell_type": "code",
   "execution_count": 102,
   "id": "5e6df4aa",
   "metadata": {},
   "outputs": [],
   "source": [
    "dataFrame = dataFrame[dataFrame.year != 1970] # 1970 in verilerini attık"
   ]
  },
  {
   "cell_type": "code",
   "execution_count": 103,
   "id": "48e4b0d5",
   "metadata": {},
   "outputs": [
    {
     "name": "stderr",
     "output_type": "stream",
     "text": [
      "C:\\Users\\apple\\AppData\\Local\\Temp\\ipykernel_15508\\2092793654.py:1: FutureWarning: The default value of numeric_only in DataFrameGroupBy.mean is deprecated. In a future version, numeric_only will default to False. Either specify numeric_only or select only columns which should be valid for the function.\n",
      "  dataFrame.groupby(\"year\").mean()[\"price\"]\n"
     ]
    },
    {
     "data": {
      "text/plain": [
       "year\n",
       "1997     9995.000000\n",
       "1998     8605.000000\n",
       "1999     5995.000000\n",
       "2000     5743.333333\n",
       "2001     4957.900000\n",
       "2002     5820.444444\n",
       "2003     4878.000000\n",
       "2004     4727.615385\n",
       "2005     4426.111111\n",
       "2006     4036.875000\n",
       "2007     5136.045455\n",
       "2008     6967.437500\n",
       "2009     6166.764706\n",
       "2010     8308.473684\n",
       "2011     8913.459459\n",
       "2012    10845.140351\n",
       "2013    11939.842466\n",
       "2014    14042.936864\n",
       "2015    16647.822222\n",
       "2016    19223.558943\n",
       "2017    21356.280421\n",
       "2018    24800.844506\n",
       "2019    30289.524832\n",
       "2020    34279.972973\n",
       "Name: price, dtype: float64"
      ]
     },
     "execution_count": 103,
     "metadata": {},
     "output_type": "execute_result"
    }
   ],
   "source": [
    "dataFrame.groupby(\"year\").mean()[\"price\"]"
   ]
  },
  {
   "cell_type": "code",
   "execution_count": 104,
   "id": "006a0c58",
   "metadata": {},
   "outputs": [
    {
     "data": {
      "text/html": [
       "<div>\n",
       "<style scoped>\n",
       "    .dataframe tbody tr th:only-of-type {\n",
       "        vertical-align: middle;\n",
       "    }\n",
       "\n",
       "    .dataframe tbody tr th {\n",
       "        vertical-align: top;\n",
       "    }\n",
       "\n",
       "    .dataframe thead th {\n",
       "        text-align: right;\n",
       "    }\n",
       "</style>\n",
       "<table border=\"1\" class=\"dataframe\">\n",
       "  <thead>\n",
       "    <tr style=\"text-align: right;\">\n",
       "      <th></th>\n",
       "      <th>year</th>\n",
       "      <th>price</th>\n",
       "      <th>transmission</th>\n",
       "      <th>mileage</th>\n",
       "      <th>tax</th>\n",
       "      <th>mpg</th>\n",
       "      <th>engineSize</th>\n",
       "    </tr>\n",
       "  </thead>\n",
       "  <tbody>\n",
       "    <tr>\n",
       "      <th>1932</th>\n",
       "      <td>2020</td>\n",
       "      <td>65995</td>\n",
       "      <td>Semi-Auto</td>\n",
       "      <td>200</td>\n",
       "      <td>145</td>\n",
       "      <td>31.7</td>\n",
       "      <td>3.0</td>\n",
       "    </tr>\n",
       "    <tr>\n",
       "      <th>6177</th>\n",
       "      <td>2019</td>\n",
       "      <td>65990</td>\n",
       "      <td>Semi-Auto</td>\n",
       "      <td>5076</td>\n",
       "      <td>150</td>\n",
       "      <td>30.4</td>\n",
       "      <td>3.0</td>\n",
       "    </tr>\n",
       "    <tr>\n",
       "      <th>5779</th>\n",
       "      <td>2020</td>\n",
       "      <td>65990</td>\n",
       "      <td>Semi-Auto</td>\n",
       "      <td>999</td>\n",
       "      <td>145</td>\n",
       "      <td>28.0</td>\n",
       "      <td>4.0</td>\n",
       "    </tr>\n",
       "    <tr>\n",
       "      <th>3191</th>\n",
       "      <td>2020</td>\n",
       "      <td>65980</td>\n",
       "      <td>Semi-Auto</td>\n",
       "      <td>3999</td>\n",
       "      <td>145</td>\n",
       "      <td>28.0</td>\n",
       "      <td>4.0</td>\n",
       "    </tr>\n",
       "    <tr>\n",
       "      <th>4727</th>\n",
       "      <td>2019</td>\n",
       "      <td>65000</td>\n",
       "      <td>Semi-Auto</td>\n",
       "      <td>3398</td>\n",
       "      <td>145</td>\n",
       "      <td>27.2</td>\n",
       "      <td>4.0</td>\n",
       "    </tr>\n",
       "  </tbody>\n",
       "</table>\n",
       "</div>"
      ],
      "text/plain": [
       "      year  price transmission  mileage  tax   mpg  engineSize\n",
       "1932  2020  65995    Semi-Auto      200  145  31.7         3.0\n",
       "6177  2019  65990    Semi-Auto     5076  150  30.4         3.0\n",
       "5779  2020  65990    Semi-Auto      999  145  28.0         4.0\n",
       "3191  2020  65980    Semi-Auto     3999  145  28.0         4.0\n",
       "4727  2019  65000    Semi-Auto     3398  145  27.2         4.0"
      ]
     },
     "execution_count": 104,
     "metadata": {},
     "output_type": "execute_result"
    }
   ],
   "source": [
    "dataFrame.head() # transmission sayısal bir veri olmadığı için program hata verebilir bu yüzden çıkarılmaı"
   ]
  },
  {
   "cell_type": "code",
   "execution_count": 105,
   "id": "898f7613",
   "metadata": {},
   "outputs": [],
   "source": [
    "dataFrame = dataFrame.drop(\"transmission\",axis = 1)"
   ]
  },
  {
   "cell_type": "code",
   "execution_count": 106,
   "id": "da3d4775",
   "metadata": {},
   "outputs": [
    {
     "data": {
      "text/html": [
       "<div>\n",
       "<style scoped>\n",
       "    .dataframe tbody tr th:only-of-type {\n",
       "        vertical-align: middle;\n",
       "    }\n",
       "\n",
       "    .dataframe tbody tr th {\n",
       "        vertical-align: top;\n",
       "    }\n",
       "\n",
       "    .dataframe thead th {\n",
       "        text-align: right;\n",
       "    }\n",
       "</style>\n",
       "<table border=\"1\" class=\"dataframe\">\n",
       "  <thead>\n",
       "    <tr style=\"text-align: right;\">\n",
       "      <th></th>\n",
       "      <th>year</th>\n",
       "      <th>price</th>\n",
       "      <th>mileage</th>\n",
       "      <th>tax</th>\n",
       "      <th>mpg</th>\n",
       "      <th>engineSize</th>\n",
       "    </tr>\n",
       "  </thead>\n",
       "  <tbody>\n",
       "    <tr>\n",
       "      <th>1932</th>\n",
       "      <td>2020</td>\n",
       "      <td>65995</td>\n",
       "      <td>200</td>\n",
       "      <td>145</td>\n",
       "      <td>31.7</td>\n",
       "      <td>3.0</td>\n",
       "    </tr>\n",
       "    <tr>\n",
       "      <th>6177</th>\n",
       "      <td>2019</td>\n",
       "      <td>65990</td>\n",
       "      <td>5076</td>\n",
       "      <td>150</td>\n",
       "      <td>30.4</td>\n",
       "      <td>3.0</td>\n",
       "    </tr>\n",
       "    <tr>\n",
       "      <th>5779</th>\n",
       "      <td>2020</td>\n",
       "      <td>65990</td>\n",
       "      <td>999</td>\n",
       "      <td>145</td>\n",
       "      <td>28.0</td>\n",
       "      <td>4.0</td>\n",
       "    </tr>\n",
       "    <tr>\n",
       "      <th>3191</th>\n",
       "      <td>2020</td>\n",
       "      <td>65980</td>\n",
       "      <td>3999</td>\n",
       "      <td>145</td>\n",
       "      <td>28.0</td>\n",
       "      <td>4.0</td>\n",
       "    </tr>\n",
       "    <tr>\n",
       "      <th>4727</th>\n",
       "      <td>2019</td>\n",
       "      <td>65000</td>\n",
       "      <td>3398</td>\n",
       "      <td>145</td>\n",
       "      <td>27.2</td>\n",
       "      <td>4.0</td>\n",
       "    </tr>\n",
       "    <tr>\n",
       "      <th>...</th>\n",
       "      <td>...</td>\n",
       "      <td>...</td>\n",
       "      <td>...</td>\n",
       "      <td>...</td>\n",
       "      <td>...</td>\n",
       "      <td>...</td>\n",
       "    </tr>\n",
       "    <tr>\n",
       "      <th>11549</th>\n",
       "      <td>2002</td>\n",
       "      <td>1495</td>\n",
       "      <td>13800</td>\n",
       "      <td>305</td>\n",
       "      <td>39.8</td>\n",
       "      <td>2.7</td>\n",
       "    </tr>\n",
       "    <tr>\n",
       "      <th>12594</th>\n",
       "      <td>2004</td>\n",
       "      <td>1495</td>\n",
       "      <td>119000</td>\n",
       "      <td>300</td>\n",
       "      <td>34.5</td>\n",
       "      <td>1.8</td>\n",
       "    </tr>\n",
       "    <tr>\n",
       "      <th>11765</th>\n",
       "      <td>2000</td>\n",
       "      <td>1490</td>\n",
       "      <td>87000</td>\n",
       "      <td>265</td>\n",
       "      <td>27.2</td>\n",
       "      <td>3.2</td>\n",
       "    </tr>\n",
       "    <tr>\n",
       "      <th>12008</th>\n",
       "      <td>2010</td>\n",
       "      <td>1350</td>\n",
       "      <td>116126</td>\n",
       "      <td>145</td>\n",
       "      <td>54.3</td>\n",
       "      <td>2.0</td>\n",
       "    </tr>\n",
       "    <tr>\n",
       "      <th>11816</th>\n",
       "      <td>2003</td>\n",
       "      <td>650</td>\n",
       "      <td>109090</td>\n",
       "      <td>235</td>\n",
       "      <td>40.0</td>\n",
       "      <td>1.4</td>\n",
       "    </tr>\n",
       "  </tbody>\n",
       "</table>\n",
       "<p>12988 rows × 6 columns</p>\n",
       "</div>"
      ],
      "text/plain": [
       "       year  price  mileage  tax   mpg  engineSize\n",
       "1932   2020  65995      200  145  31.7         3.0\n",
       "6177   2019  65990     5076  150  30.4         3.0\n",
       "5779   2020  65990      999  145  28.0         4.0\n",
       "3191   2020  65980     3999  145  28.0         4.0\n",
       "4727   2019  65000     3398  145  27.2         4.0\n",
       "...     ...    ...      ...  ...   ...         ...\n",
       "11549  2002   1495    13800  305  39.8         2.7\n",
       "12594  2004   1495   119000  300  34.5         1.8\n",
       "11765  2000   1490    87000  265  27.2         3.2\n",
       "12008  2010   1350   116126  145  54.3         2.0\n",
       "11816  2003    650   109090  235  40.0         1.4\n",
       "\n",
       "[12988 rows x 6 columns]"
      ]
     },
     "execution_count": 106,
     "metadata": {},
     "output_type": "execute_result"
    }
   ],
   "source": [
    "dataFrame"
   ]
  },
  {
   "cell_type": "code",
   "execution_count": 107,
   "id": "bfe4ffc0",
   "metadata": {},
   "outputs": [],
   "source": [
    "y = dataFrame[\"price\"].values\n",
    "x = dataFrame.drop(\"price\",axis = 1).values"
   ]
  },
  {
   "cell_type": "code",
   "execution_count": 108,
   "id": "476a3c87",
   "metadata": {},
   "outputs": [],
   "source": [
    "from sklearn.model_selection import train_test_split"
   ]
  },
  {
   "cell_type": "code",
   "execution_count": 110,
   "id": "964322f6",
   "metadata": {},
   "outputs": [],
   "source": [
    "x_train, x_test, y_train, y_test = train_test_split(x,y,test_size=0.2,random_state=10)"
   ]
  },
  {
   "cell_type": "code",
   "execution_count": 111,
   "id": "b2dc0f2f",
   "metadata": {},
   "outputs": [],
   "source": [
    "from sklearn.preprocessing import MinMaxScaler"
   ]
  },
  {
   "cell_type": "code",
   "execution_count": 112,
   "id": "f02b8180",
   "metadata": {},
   "outputs": [],
   "source": [
    "scaler = MinMaxScaler()"
   ]
  },
  {
   "cell_type": "code",
   "execution_count": 113,
   "id": "6f149c76",
   "metadata": {},
   "outputs": [],
   "source": [
    "x_train = scaler.fit_transform(x_train)"
   ]
  },
  {
   "cell_type": "code",
   "execution_count": 114,
   "id": "d7f23682",
   "metadata": {},
   "outputs": [],
   "source": [
    "x_test = scaler.transform(x_test)"
   ]
  },
  {
   "cell_type": "code",
   "execution_count": 115,
   "id": "356e0530",
   "metadata": {},
   "outputs": [],
   "source": [
    "from tensorflow.keras.models import Sequential \n",
    "from tensorflow.keras.layers import Dense"
   ]
  },
  {
   "cell_type": "code",
   "execution_count": 116,
   "id": "1b5745e4",
   "metadata": {},
   "outputs": [],
   "source": [
    "model = Sequential()\n",
    "\n",
    "model.add(Dense(12,activation= \"relu\"))\n",
    "model.add(Dense(12,activation= \"relu\"))\n",
    "model.add(Dense(12,activation= \"relu\"))\n",
    "model.add(Dense(12,activation= \"relu\"))\n",
    "\n",
    "model.add(Dense(1))\n",
    "\n",
    "model.compile(optimizer= \"adam\",loss=\"mse\")"
   ]
  },
  {
   "cell_type": "code",
   "execution_count": 117,
   "id": "a482075f",
   "metadata": {
    "scrolled": true
   },
   "outputs": [
    {
     "name": "stdout",
     "output_type": "stream",
     "text": [
      "Epoch 1/300\n",
      "42/42 [==============================] - 1s 6ms/step - loss: 677771776.0000 - val_loss: 674968640.0000\n",
      "Epoch 2/300\n",
      "42/42 [==============================] - 0s 2ms/step - loss: 677733760.0000 - val_loss: 674899328.0000\n",
      "Epoch 3/300\n",
      "42/42 [==============================] - 0s 2ms/step - loss: 677578048.0000 - val_loss: 674596160.0000\n",
      "Epoch 4/300\n",
      "42/42 [==============================] - 0s 2ms/step - loss: 676963968.0000 - val_loss: 673499456.0000\n",
      "Epoch 5/300\n",
      "42/42 [==============================] - 0s 2ms/step - loss: 674946624.0000 - val_loss: 670133824.0000\n",
      "Epoch 6/300\n",
      "42/42 [==============================] - 0s 2ms/step - loss: 669415424.0000 - val_loss: 661656128.0000\n",
      "Epoch 7/300\n",
      "42/42 [==============================] - 0s 2ms/step - loss: 656610752.0000 - val_loss: 643099840.0000\n",
      "Epoch 8/300\n",
      "42/42 [==============================] - 0s 2ms/step - loss: 630183104.0000 - val_loss: 606722176.0000\n",
      "Epoch 9/300\n",
      "42/42 [==============================] - 0s 2ms/step - loss: 581535936.0000 - val_loss: 543822848.0000\n",
      "Epoch 10/300\n",
      "42/42 [==============================] - 0s 2ms/step - loss: 503739296.0000 - val_loss: 450056192.0000\n",
      "Epoch 11/300\n",
      "42/42 [==============================] - 0s 2ms/step - loss: 397318432.0000 - val_loss: 332406048.0000\n",
      "Epoch 12/300\n",
      "42/42 [==============================] - 0s 2ms/step - loss: 276808320.0000 - val_loss: 215290752.0000\n",
      "Epoch 13/300\n",
      "42/42 [==============================] - 0s 2ms/step - loss: 173351584.0000 - val_loss: 132211816.0000\n",
      "Epoch 14/300\n",
      "42/42 [==============================] - 0s 2ms/step - loss: 113597368.0000 - val_loss: 96911424.0000\n",
      "Epoch 15/300\n",
      "42/42 [==============================] - 0s 2ms/step - loss: 93877168.0000 - val_loss: 89001032.0000\n",
      "Epoch 16/300\n",
      "42/42 [==============================] - 0s 2ms/step - loss: 90070480.0000 - val_loss: 87544344.0000\n",
      "Epoch 17/300\n",
      "42/42 [==============================] - 0s 2ms/step - loss: 89065408.0000 - val_loss: 86801544.0000\n",
      "Epoch 18/300\n",
      "42/42 [==============================] - 0s 2ms/step - loss: 88365320.0000 - val_loss: 86125624.0000\n",
      "Epoch 19/300\n",
      "42/42 [==============================] - 0s 2ms/step - loss: 87688136.0000 - val_loss: 85490520.0000\n",
      "Epoch 20/300\n",
      "42/42 [==============================] - 0s 2ms/step - loss: 87054152.0000 - val_loss: 84890928.0000\n",
      "Epoch 21/300\n",
      "42/42 [==============================] - 0s 2ms/step - loss: 86443680.0000 - val_loss: 84295400.0000\n",
      "Epoch 22/300\n",
      "42/42 [==============================] - 0s 2ms/step - loss: 85856864.0000 - val_loss: 83726128.0000\n",
      "Epoch 23/300\n",
      "42/42 [==============================] - 0s 2ms/step - loss: 85272456.0000 - val_loss: 83169960.0000\n",
      "Epoch 24/300\n",
      "42/42 [==============================] - 0s 2ms/step - loss: 84708248.0000 - val_loss: 82614640.0000\n",
      "Epoch 25/300\n",
      "42/42 [==============================] - 0s 2ms/step - loss: 84148392.0000 - val_loss: 82077184.0000\n",
      "Epoch 26/300\n",
      "42/42 [==============================] - 0s 2ms/step - loss: 83599008.0000 - val_loss: 81539648.0000\n",
      "Epoch 27/300\n",
      "42/42 [==============================] - 0s 2ms/step - loss: 83059184.0000 - val_loss: 81014296.0000\n",
      "Epoch 28/300\n",
      "42/42 [==============================] - 0s 2ms/step - loss: 82510168.0000 - val_loss: 80490120.0000\n",
      "Epoch 29/300\n",
      "42/42 [==============================] - 0s 2ms/step - loss: 81973296.0000 - val_loss: 79963608.0000\n",
      "Epoch 30/300\n",
      "42/42 [==============================] - 0s 2ms/step - loss: 81438568.0000 - val_loss: 79444048.0000\n",
      "Epoch 31/300\n",
      "42/42 [==============================] - 0s 2ms/step - loss: 80909544.0000 - val_loss: 78932408.0000\n",
      "Epoch 32/300\n",
      "42/42 [==============================] - 0s 2ms/step - loss: 80381704.0000 - val_loss: 78412472.0000\n",
      "Epoch 33/300\n",
      "42/42 [==============================] - 0s 4ms/step - loss: 79855968.0000 - val_loss: 77905208.0000\n",
      "Epoch 34/300\n",
      "42/42 [==============================] - 0s 4ms/step - loss: 79324632.0000 - val_loss: 77386712.0000\n",
      "Epoch 35/300\n",
      "42/42 [==============================] - 0s 3ms/step - loss: 78801944.0000 - val_loss: 76876984.0000\n",
      "Epoch 36/300\n",
      "42/42 [==============================] - 0s 4ms/step - loss: 78284712.0000 - val_loss: 76364856.0000\n",
      "Epoch 37/300\n",
      "42/42 [==============================] - 0s 2ms/step - loss: 77752512.0000 - val_loss: 75852464.0000\n",
      "Epoch 38/300\n",
      "42/42 [==============================] - 0s 2ms/step - loss: 77225472.0000 - val_loss: 75337096.0000\n",
      "Epoch 39/300\n",
      "42/42 [==============================] - 0s 2ms/step - loss: 76702928.0000 - val_loss: 74821344.0000\n",
      "Epoch 40/300\n",
      "42/42 [==============================] - 0s 2ms/step - loss: 76170304.0000 - val_loss: 74306912.0000\n",
      "Epoch 41/300\n",
      "42/42 [==============================] - 0s 2ms/step - loss: 75646856.0000 - val_loss: 73794560.0000\n",
      "Epoch 42/300\n",
      "42/42 [==============================] - 0s 2ms/step - loss: 75111568.0000 - val_loss: 73278144.0000\n",
      "Epoch 43/300\n",
      "42/42 [==============================] - 0s 2ms/step - loss: 74582480.0000 - val_loss: 72753560.0000\n",
      "Epoch 44/300\n",
      "42/42 [==============================] - 0s 2ms/step - loss: 74042688.0000 - val_loss: 72228912.0000\n",
      "Epoch 45/300\n",
      "42/42 [==============================] - 0s 2ms/step - loss: 73505840.0000 - val_loss: 71703496.0000\n",
      "Epoch 46/300\n",
      "42/42 [==============================] - 0s 2ms/step - loss: 72962632.0000 - val_loss: 71177144.0000\n",
      "Epoch 47/300\n",
      "42/42 [==============================] - 0s 2ms/step - loss: 72418192.0000 - val_loss: 70641128.0000\n",
      "Epoch 48/300\n",
      "42/42 [==============================] - 0s 2ms/step - loss: 71876864.0000 - val_loss: 70107952.0000\n",
      "Epoch 49/300\n",
      "42/42 [==============================] - 0s 2ms/step - loss: 71320016.0000 - val_loss: 69560784.0000\n",
      "Epoch 50/300\n",
      "42/42 [==============================] - 0s 2ms/step - loss: 70770856.0000 - val_loss: 69013696.0000\n",
      "Epoch 51/300\n",
      "42/42 [==============================] - 0s 2ms/step - loss: 70203936.0000 - val_loss: 68461240.0000\n",
      "Epoch 52/300\n",
      "42/42 [==============================] - 0s 3ms/step - loss: 69630016.0000 - val_loss: 67910248.0000\n",
      "Epoch 53/300\n",
      "42/42 [==============================] - 0s 4ms/step - loss: 69057104.0000 - val_loss: 67337776.0000\n",
      "Epoch 54/300\n",
      "42/42 [==============================] - 0s 2ms/step - loss: 68506664.0000 - val_loss: 66793704.0000\n",
      "Epoch 55/300\n",
      "42/42 [==============================] - 0s 2ms/step - loss: 67905864.0000 - val_loss: 66195212.0000\n",
      "Epoch 56/300\n",
      "42/42 [==============================] - 0s 2ms/step - loss: 67309360.0000 - val_loss: 65608788.0000\n",
      "Epoch 57/300\n",
      "42/42 [==============================] - 0s 2ms/step - loss: 66688664.0000 - val_loss: 65023096.0000\n",
      "Epoch 58/300\n",
      "42/42 [==============================] - 0s 3ms/step - loss: 66088784.0000 - val_loss: 64422580.0000\n",
      "Epoch 59/300\n",
      "42/42 [==============================] - 0s 2ms/step - loss: 65461160.0000 - val_loss: 63801220.0000\n",
      "Epoch 60/300\n",
      "42/42 [==============================] - 0s 2ms/step - loss: 64830912.0000 - val_loss: 63180988.0000\n",
      "Epoch 61/300\n",
      "42/42 [==============================] - 0s 2ms/step - loss: 64197692.0000 - val_loss: 62539228.0000\n",
      "Epoch 62/300\n",
      "42/42 [==============================] - 0s 2ms/step - loss: 63541840.0000 - val_loss: 61901332.0000\n",
      "Epoch 63/300\n",
      "42/42 [==============================] - 0s 2ms/step - loss: 62885420.0000 - val_loss: 61256264.0000\n",
      "Epoch 64/300\n",
      "42/42 [==============================] - 0s 2ms/step - loss: 62210024.0000 - val_loss: 60590024.0000\n",
      "Epoch 65/300\n",
      "42/42 [==============================] - 0s 2ms/step - loss: 61545172.0000 - val_loss: 59908588.0000\n",
      "Epoch 66/300\n",
      "42/42 [==============================] - 0s 3ms/step - loss: 60832912.0000 - val_loss: 59227100.0000\n",
      "Epoch 67/300\n",
      "42/42 [==============================] - 0s 2ms/step - loss: 60132800.0000 - val_loss: 58510728.0000\n",
      "Epoch 68/300\n",
      "42/42 [==============================] - 0s 2ms/step - loss: 59386312.0000 - val_loss: 57789200.0000\n",
      "Epoch 69/300\n",
      "42/42 [==============================] - 0s 2ms/step - loss: 58643448.0000 - val_loss: 57055420.0000\n",
      "Epoch 70/300\n",
      "42/42 [==============================] - 0s 2ms/step - loss: 57895072.0000 - val_loss: 56303420.0000\n",
      "Epoch 71/300\n",
      "42/42 [==============================] - 0s 2ms/step - loss: 57120900.0000 - val_loss: 55581208.0000\n",
      "Epoch 72/300\n"
     ]
    },
    {
     "name": "stdout",
     "output_type": "stream",
     "text": [
      "42/42 [==============================] - 0s 2ms/step - loss: 56337900.0000 - val_loss: 54747056.0000\n",
      "Epoch 73/300\n",
      "42/42 [==============================] - 0s 2ms/step - loss: 55520000.0000 - val_loss: 53940456.0000\n",
      "Epoch 74/300\n",
      "42/42 [==============================] - 0s 2ms/step - loss: 54690480.0000 - val_loss: 53120308.0000\n",
      "Epoch 75/300\n",
      "42/42 [==============================] - 0s 2ms/step - loss: 53843128.0000 - val_loss: 52290988.0000\n",
      "Epoch 76/300\n",
      "42/42 [==============================] - 0s 2ms/step - loss: 52982204.0000 - val_loss: 51433584.0000\n",
      "Epoch 77/300\n",
      "42/42 [==============================] - 0s 2ms/step - loss: 52099112.0000 - val_loss: 50537624.0000\n",
      "Epoch 78/300\n",
      "42/42 [==============================] - 0s 2ms/step - loss: 51189684.0000 - val_loss: 49614484.0000\n",
      "Epoch 79/300\n",
      "42/42 [==============================] - 0s 2ms/step - loss: 50289176.0000 - val_loss: 48712676.0000\n",
      "Epoch 80/300\n",
      "42/42 [==============================] - 0s 2ms/step - loss: 49340168.0000 - val_loss: 47826828.0000\n",
      "Epoch 81/300\n",
      "42/42 [==============================] - 0s 2ms/step - loss: 48419000.0000 - val_loss: 46856156.0000\n",
      "Epoch 82/300\n",
      "42/42 [==============================] - 0s 2ms/step - loss: 47427584.0000 - val_loss: 45901240.0000\n",
      "Epoch 83/300\n",
      "42/42 [==============================] - 0s 2ms/step - loss: 46457644.0000 - val_loss: 44929044.0000\n",
      "Epoch 84/300\n",
      "42/42 [==============================] - 0s 2ms/step - loss: 45487624.0000 - val_loss: 43960632.0000\n",
      "Epoch 85/300\n",
      "42/42 [==============================] - 0s 2ms/step - loss: 44490332.0000 - val_loss: 42985584.0000\n",
      "Epoch 86/300\n",
      "42/42 [==============================] - 0s 2ms/step - loss: 43489176.0000 - val_loss: 42021140.0000\n",
      "Epoch 87/300\n",
      "42/42 [==============================] - 0s 2ms/step - loss: 42502508.0000 - val_loss: 41058512.0000\n",
      "Epoch 88/300\n",
      "42/42 [==============================] - 0s 2ms/step - loss: 41500456.0000 - val_loss: 40067676.0000\n",
      "Epoch 89/300\n",
      "42/42 [==============================] - 0s 2ms/step - loss: 40509588.0000 - val_loss: 39190408.0000\n",
      "Epoch 90/300\n",
      "42/42 [==============================] - 0s 2ms/step - loss: 39590928.0000 - val_loss: 38265204.0000\n",
      "Epoch 91/300\n",
      "42/42 [==============================] - 0s 2ms/step - loss: 38633856.0000 - val_loss: 37295712.0000\n",
      "Epoch 92/300\n",
      "42/42 [==============================] - 0s 2ms/step - loss: 37737664.0000 - val_loss: 36455488.0000\n",
      "Epoch 93/300\n",
      "42/42 [==============================] - 0s 2ms/step - loss: 36858352.0000 - val_loss: 35606308.0000\n",
      "Epoch 94/300\n",
      "42/42 [==============================] - 0s 2ms/step - loss: 36014680.0000 - val_loss: 34856272.0000\n",
      "Epoch 95/300\n",
      "42/42 [==============================] - 0s 2ms/step - loss: 35213948.0000 - val_loss: 34113552.0000\n",
      "Epoch 96/300\n",
      "42/42 [==============================] - 0s 2ms/step - loss: 34460796.0000 - val_loss: 33376154.0000\n",
      "Epoch 97/300\n",
      "42/42 [==============================] - 0s 2ms/step - loss: 33739476.0000 - val_loss: 32716158.0000\n",
      "Epoch 98/300\n",
      "42/42 [==============================] - 0s 2ms/step - loss: 33048894.0000 - val_loss: 32073546.0000\n",
      "Epoch 99/300\n",
      "42/42 [==============================] - 0s 2ms/step - loss: 32409456.0000 - val_loss: 31504172.0000\n",
      "Epoch 100/300\n",
      "42/42 [==============================] - 0s 2ms/step - loss: 31811030.0000 - val_loss: 30938172.0000\n",
      "Epoch 101/300\n",
      "42/42 [==============================] - 0s 2ms/step - loss: 31219834.0000 - val_loss: 30418182.0000\n",
      "Epoch 102/300\n",
      "42/42 [==============================] - 0s 2ms/step - loss: 30650002.0000 - val_loss: 29923878.0000\n",
      "Epoch 103/300\n",
      "42/42 [==============================] - 0s 2ms/step - loss: 30104838.0000 - val_loss: 29422908.0000\n",
      "Epoch 104/300\n",
      "42/42 [==============================] - 0s 2ms/step - loss: 29566162.0000 - val_loss: 28973090.0000\n",
      "Epoch 105/300\n",
      "42/42 [==============================] - 0s 2ms/step - loss: 29094288.0000 - val_loss: 28544484.0000\n",
      "Epoch 106/300\n",
      "42/42 [==============================] - 0s 2ms/step - loss: 28619666.0000 - val_loss: 28188690.0000\n",
      "Epoch 107/300\n",
      "42/42 [==============================] - 0s 2ms/step - loss: 28221480.0000 - val_loss: 27815148.0000\n",
      "Epoch 108/300\n",
      "42/42 [==============================] - 0s 2ms/step - loss: 27839500.0000 - val_loss: 27505576.0000\n",
      "Epoch 109/300\n",
      "42/42 [==============================] - 0s 2ms/step - loss: 27509600.0000 - val_loss: 27207646.0000\n",
      "Epoch 110/300\n",
      "42/42 [==============================] - 0s 2ms/step - loss: 27178814.0000 - val_loss: 26974702.0000\n",
      "Epoch 111/300\n",
      "42/42 [==============================] - 0s 2ms/step - loss: 26913468.0000 - val_loss: 26717326.0000\n",
      "Epoch 112/300\n",
      "42/42 [==============================] - 0s 2ms/step - loss: 26635278.0000 - val_loss: 26510106.0000\n",
      "Epoch 113/300\n",
      "42/42 [==============================] - 0s 2ms/step - loss: 26345172.0000 - val_loss: 26295698.0000\n",
      "Epoch 114/300\n",
      "42/42 [==============================] - 0s 2ms/step - loss: 26094906.0000 - val_loss: 26113386.0000\n",
      "Epoch 115/300\n",
      "42/42 [==============================] - 0s 2ms/step - loss: 25853228.0000 - val_loss: 25867348.0000\n",
      "Epoch 116/300\n",
      "42/42 [==============================] - 0s 2ms/step - loss: 25559896.0000 - val_loss: 25629976.0000\n",
      "Epoch 117/300\n",
      "42/42 [==============================] - 0s 2ms/step - loss: 25280020.0000 - val_loss: 25387406.0000\n",
      "Epoch 118/300\n",
      "42/42 [==============================] - 0s 2ms/step - loss: 24946284.0000 - val_loss: 25065786.0000\n",
      "Epoch 119/300\n",
      "42/42 [==============================] - 0s 2ms/step - loss: 24584352.0000 - val_loss: 24756660.0000\n",
      "Epoch 120/300\n",
      "42/42 [==============================] - 0s 2ms/step - loss: 24285862.0000 - val_loss: 24483538.0000\n",
      "Epoch 121/300\n",
      "42/42 [==============================] - 0s 2ms/step - loss: 23993700.0000 - val_loss: 24258472.0000\n",
      "Epoch 122/300\n",
      "42/42 [==============================] - 0s 2ms/step - loss: 23759342.0000 - val_loss: 24071158.0000\n",
      "Epoch 123/300\n",
      "42/42 [==============================] - 0s 2ms/step - loss: 23560560.0000 - val_loss: 23949194.0000\n",
      "Epoch 124/300\n",
      "42/42 [==============================] - 0s 2ms/step - loss: 23378012.0000 - val_loss: 23920220.0000\n",
      "Epoch 125/300\n",
      "42/42 [==============================] - 0s 2ms/step - loss: 23295982.0000 - val_loss: 23681972.0000\n",
      "Epoch 126/300\n",
      "42/42 [==============================] - 0s 2ms/step - loss: 23122004.0000 - val_loss: 23585400.0000\n",
      "Epoch 127/300\n",
      "42/42 [==============================] - 0s 2ms/step - loss: 23013028.0000 - val_loss: 23482426.0000\n",
      "Epoch 128/300\n",
      "42/42 [==============================] - 0s 2ms/step - loss: 22853422.0000 - val_loss: 23391306.0000\n",
      "Epoch 129/300\n",
      "42/42 [==============================] - 0s 2ms/step - loss: 22708770.0000 - val_loss: 23282420.0000\n",
      "Epoch 130/300\n",
      "42/42 [==============================] - 0s 2ms/step - loss: 22590892.0000 - val_loss: 23162764.0000\n",
      "Epoch 131/300\n",
      "42/42 [==============================] - 0s 2ms/step - loss: 22442334.0000 - val_loss: 23094346.0000\n",
      "Epoch 132/300\n",
      "42/42 [==============================] - 0s 2ms/step - loss: 22335026.0000 - val_loss: 22966630.0000\n",
      "Epoch 133/300\n",
      "42/42 [==============================] - 0s 2ms/step - loss: 22195538.0000 - val_loss: 22875710.0000\n",
      "Epoch 134/300\n",
      "42/42 [==============================] - 0s 2ms/step - loss: 22073938.0000 - val_loss: 22790736.0000\n",
      "Epoch 135/300\n",
      "42/42 [==============================] - 0s 2ms/step - loss: 21975026.0000 - val_loss: 22707482.0000\n",
      "Epoch 136/300\n",
      "42/42 [==============================] - 0s 2ms/step - loss: 21859118.0000 - val_loss: 22688170.0000\n",
      "Epoch 137/300\n",
      "42/42 [==============================] - 0s 2ms/step - loss: 21797360.0000 - val_loss: 22572404.0000\n",
      "Epoch 138/300\n",
      "42/42 [==============================] - 0s 2ms/step - loss: 21718010.0000 - val_loss: 22517726.0000\n",
      "Epoch 139/300\n",
      "42/42 [==============================] - 0s 2ms/step - loss: 21611816.0000 - val_loss: 22466846.0000\n",
      "Epoch 140/300\n",
      "42/42 [==============================] - 0s 2ms/step - loss: 21577582.0000 - val_loss: 22373658.0000\n",
      "Epoch 141/300\n",
      "42/42 [==============================] - 0s 2ms/step - loss: 21490900.0000 - val_loss: 22349300.0000\n",
      "Epoch 142/300\n",
      "42/42 [==============================] - 0s 2ms/step - loss: 21446116.0000 - val_loss: 22306112.0000\n",
      "Epoch 143/300\n"
     ]
    },
    {
     "name": "stdout",
     "output_type": "stream",
     "text": [
      "42/42 [==============================] - 0s 2ms/step - loss: 21379390.0000 - val_loss: 22243838.0000\n",
      "Epoch 144/300\n",
      "42/42 [==============================] - 0s 2ms/step - loss: 21323236.0000 - val_loss: 22221202.0000\n",
      "Epoch 145/300\n",
      "42/42 [==============================] - 0s 2ms/step - loss: 21282380.0000 - val_loss: 22179466.0000\n",
      "Epoch 146/300\n",
      "42/42 [==============================] - 0s 2ms/step - loss: 21211722.0000 - val_loss: 22252976.0000\n",
      "Epoch 147/300\n",
      "42/42 [==============================] - 0s 2ms/step - loss: 21200426.0000 - val_loss: 22152930.0000\n",
      "Epoch 148/300\n",
      "42/42 [==============================] - 0s 2ms/step - loss: 21151122.0000 - val_loss: 22113492.0000\n",
      "Epoch 149/300\n",
      "42/42 [==============================] - 0s 2ms/step - loss: 21119248.0000 - val_loss: 22071562.0000\n",
      "Epoch 150/300\n",
      "42/42 [==============================] - 0s 2ms/step - loss: 21072876.0000 - val_loss: 22108992.0000\n",
      "Epoch 151/300\n",
      "42/42 [==============================] - 0s 3ms/step - loss: 21051514.0000 - val_loss: 22017340.0000\n",
      "Epoch 152/300\n",
      "42/42 [==============================] - 0s 2ms/step - loss: 20994216.0000 - val_loss: 22012242.0000\n",
      "Epoch 153/300\n",
      "42/42 [==============================] - 0s 2ms/step - loss: 20962796.0000 - val_loss: 21966456.0000\n",
      "Epoch 154/300\n",
      "42/42 [==============================] - 0s 2ms/step - loss: 20917094.0000 - val_loss: 21948090.0000\n",
      "Epoch 155/300\n",
      "42/42 [==============================] - 0s 2ms/step - loss: 20876014.0000 - val_loss: 21907628.0000\n",
      "Epoch 156/300\n",
      "42/42 [==============================] - 0s 2ms/step - loss: 20844482.0000 - val_loss: 21888670.0000\n",
      "Epoch 157/300\n",
      "42/42 [==============================] - 0s 2ms/step - loss: 20834694.0000 - val_loss: 21886012.0000\n",
      "Epoch 158/300\n",
      "42/42 [==============================] - 0s 2ms/step - loss: 20770334.0000 - val_loss: 21843346.0000\n",
      "Epoch 159/300\n",
      "42/42 [==============================] - 0s 2ms/step - loss: 20744458.0000 - val_loss: 21816744.0000\n",
      "Epoch 160/300\n",
      "42/42 [==============================] - 0s 2ms/step - loss: 20723020.0000 - val_loss: 21812940.0000\n",
      "Epoch 161/300\n",
      "42/42 [==============================] - 0s 2ms/step - loss: 20671690.0000 - val_loss: 21755066.0000\n",
      "Epoch 162/300\n",
      "42/42 [==============================] - 0s 2ms/step - loss: 20653002.0000 - val_loss: 21735118.0000\n",
      "Epoch 163/300\n",
      "42/42 [==============================] - 0s 3ms/step - loss: 20622522.0000 - val_loss: 21722396.0000\n",
      "Epoch 164/300\n",
      "42/42 [==============================] - 0s 2ms/step - loss: 20579452.0000 - val_loss: 21680346.0000\n",
      "Epoch 165/300\n",
      "42/42 [==============================] - 0s 2ms/step - loss: 20568316.0000 - val_loss: 21655890.0000\n",
      "Epoch 166/300\n",
      "42/42 [==============================] - 0s 2ms/step - loss: 20532420.0000 - val_loss: 21626996.0000\n",
      "Epoch 167/300\n",
      "42/42 [==============================] - 0s 2ms/step - loss: 20506772.0000 - val_loss: 21601474.0000\n",
      "Epoch 168/300\n",
      "42/42 [==============================] - 0s 2ms/step - loss: 20469168.0000 - val_loss: 21577364.0000\n",
      "Epoch 169/300\n",
      "42/42 [==============================] - 0s 2ms/step - loss: 20447982.0000 - val_loss: 21561110.0000\n",
      "Epoch 170/300\n",
      "42/42 [==============================] - 0s 2ms/step - loss: 20403962.0000 - val_loss: 21581684.0000\n",
      "Epoch 171/300\n",
      "42/42 [==============================] - 0s 2ms/step - loss: 20399658.0000 - val_loss: 21575690.0000\n",
      "Epoch 172/300\n",
      "42/42 [==============================] - 0s 2ms/step - loss: 20368350.0000 - val_loss: 21481604.0000\n",
      "Epoch 173/300\n",
      "42/42 [==============================] - 0s 2ms/step - loss: 20334896.0000 - val_loss: 21454094.0000\n",
      "Epoch 174/300\n",
      "42/42 [==============================] - 0s 2ms/step - loss: 20315782.0000 - val_loss: 21428304.0000\n",
      "Epoch 175/300\n",
      "42/42 [==============================] - 0s 2ms/step - loss: 20292438.0000 - val_loss: 21421942.0000\n",
      "Epoch 176/300\n",
      "42/42 [==============================] - 0s 2ms/step - loss: 20263454.0000 - val_loss: 21385808.0000\n",
      "Epoch 177/300\n",
      "42/42 [==============================] - 0s 2ms/step - loss: 20242896.0000 - val_loss: 21369140.0000\n",
      "Epoch 178/300\n",
      "42/42 [==============================] - 0s 2ms/step - loss: 20224580.0000 - val_loss: 21352884.0000\n",
      "Epoch 179/300\n",
      "42/42 [==============================] - 0s 2ms/step - loss: 20220034.0000 - val_loss: 21343508.0000\n",
      "Epoch 180/300\n",
      "42/42 [==============================] - 0s 2ms/step - loss: 20166846.0000 - val_loss: 21312830.0000\n",
      "Epoch 181/300\n",
      "42/42 [==============================] - 0s 2ms/step - loss: 20152488.0000 - val_loss: 21294566.0000\n",
      "Epoch 182/300\n",
      "42/42 [==============================] - 0s 2ms/step - loss: 20132370.0000 - val_loss: 21282604.0000\n",
      "Epoch 183/300\n",
      "42/42 [==============================] - 0s 2ms/step - loss: 20118724.0000 - val_loss: 21254680.0000\n",
      "Epoch 184/300\n",
      "42/42 [==============================] - 0s 2ms/step - loss: 20093712.0000 - val_loss: 21234308.0000\n",
      "Epoch 185/300\n",
      "42/42 [==============================] - 0s 2ms/step - loss: 20076958.0000 - val_loss: 21225490.0000\n",
      "Epoch 186/300\n",
      "42/42 [==============================] - 0s 2ms/step - loss: 20056782.0000 - val_loss: 21198338.0000\n",
      "Epoch 187/300\n",
      "42/42 [==============================] - 0s 2ms/step - loss: 20027010.0000 - val_loss: 21183808.0000\n",
      "Epoch 188/300\n",
      "42/42 [==============================] - 0s 2ms/step - loss: 20014380.0000 - val_loss: 21169460.0000\n",
      "Epoch 189/300\n",
      "42/42 [==============================] - 0s 2ms/step - loss: 19992106.0000 - val_loss: 21163662.0000\n",
      "Epoch 190/300\n",
      "42/42 [==============================] - 0s 2ms/step - loss: 19988608.0000 - val_loss: 21130686.0000\n",
      "Epoch 191/300\n",
      "42/42 [==============================] - 0s 2ms/step - loss: 19972582.0000 - val_loss: 21117004.0000\n",
      "Epoch 192/300\n",
      "42/42 [==============================] - 0s 2ms/step - loss: 19943444.0000 - val_loss: 21102432.0000\n",
      "Epoch 193/300\n",
      "42/42 [==============================] - 0s 2ms/step - loss: 19936094.0000 - val_loss: 21097468.0000\n",
      "Epoch 194/300\n",
      "42/42 [==============================] - 0s 2ms/step - loss: 19917194.0000 - val_loss: 21085366.0000\n",
      "Epoch 195/300\n",
      "42/42 [==============================] - 0s 2ms/step - loss: 19952932.0000 - val_loss: 21062080.0000\n",
      "Epoch 196/300\n",
      "42/42 [==============================] - 0s 2ms/step - loss: 19898152.0000 - val_loss: 21056458.0000\n",
      "Epoch 197/300\n",
      "42/42 [==============================] - 0s 2ms/step - loss: 19893104.0000 - val_loss: 21033810.0000\n",
      "Epoch 198/300\n",
      "42/42 [==============================] - 0s 2ms/step - loss: 19867274.0000 - val_loss: 21029258.0000\n",
      "Epoch 199/300\n",
      "42/42 [==============================] - 0s 2ms/step - loss: 19838688.0000 - val_loss: 21014716.0000\n",
      "Epoch 200/300\n",
      "42/42 [==============================] - 0s 2ms/step - loss: 19827304.0000 - val_loss: 20989944.0000\n",
      "Epoch 201/300\n",
      "42/42 [==============================] - 0s 2ms/step - loss: 19816726.0000 - val_loss: 20987594.0000\n",
      "Epoch 202/300\n",
      "42/42 [==============================] - 0s 2ms/step - loss: 19821042.0000 - val_loss: 20969192.0000\n",
      "Epoch 203/300\n",
      "42/42 [==============================] - 0s 2ms/step - loss: 19789380.0000 - val_loss: 20959142.0000\n",
      "Epoch 204/300\n",
      "42/42 [==============================] - 0s 2ms/step - loss: 19751258.0000 - val_loss: 21092316.0000\n",
      "Epoch 205/300\n",
      "42/42 [==============================] - 0s 2ms/step - loss: 19784220.0000 - val_loss: 20924840.0000\n",
      "Epoch 206/300\n",
      "42/42 [==============================] - 0s 2ms/step - loss: 19744506.0000 - val_loss: 20909444.0000\n",
      "Epoch 207/300\n",
      "42/42 [==============================] - 0s 2ms/step - loss: 19744138.0000 - val_loss: 20914262.0000\n",
      "Epoch 208/300\n",
      "42/42 [==============================] - 0s 2ms/step - loss: 19724158.0000 - val_loss: 20881462.0000\n",
      "Epoch 209/300\n",
      "42/42 [==============================] - 0s 2ms/step - loss: 19718206.0000 - val_loss: 20867748.0000\n",
      "Epoch 210/300\n",
      "42/42 [==============================] - 0s 2ms/step - loss: 19718268.0000 - val_loss: 20879878.0000\n",
      "Epoch 211/300\n",
      "42/42 [==============================] - 0s 2ms/step - loss: 19684450.0000 - val_loss: 20874916.0000\n",
      "Epoch 212/300\n",
      "42/42 [==============================] - 0s 2ms/step - loss: 19679182.0000 - val_loss: 20827780.0000\n",
      "Epoch 213/300\n",
      "42/42 [==============================] - 0s 2ms/step - loss: 19664238.0000 - val_loss: 20817976.0000\n",
      "Epoch 214/300\n"
     ]
    },
    {
     "name": "stdout",
     "output_type": "stream",
     "text": [
      "42/42 [==============================] - 0s 2ms/step - loss: 19648198.0000 - val_loss: 20807550.0000\n",
      "Epoch 215/300\n",
      "42/42 [==============================] - 0s 2ms/step - loss: 19646294.0000 - val_loss: 20833776.0000\n",
      "Epoch 216/300\n",
      "42/42 [==============================] - 0s 2ms/step - loss: 19651530.0000 - val_loss: 20920716.0000\n",
      "Epoch 217/300\n",
      "42/42 [==============================] - 0s 2ms/step - loss: 19634924.0000 - val_loss: 20840044.0000\n",
      "Epoch 218/300\n",
      "42/42 [==============================] - 0s 2ms/step - loss: 19598250.0000 - val_loss: 20837814.0000\n",
      "Epoch 219/300\n",
      "42/42 [==============================] - 0s 2ms/step - loss: 19584024.0000 - val_loss: 20745462.0000\n",
      "Epoch 220/300\n",
      "42/42 [==============================] - 0s 2ms/step - loss: 19586084.0000 - val_loss: 20740472.0000\n",
      "Epoch 221/300\n",
      "42/42 [==============================] - 0s 2ms/step - loss: 19593022.0000 - val_loss: 20728272.0000\n",
      "Epoch 222/300\n",
      "42/42 [==============================] - 0s 2ms/step - loss: 19556164.0000 - val_loss: 20708638.0000\n",
      "Epoch 223/300\n",
      "42/42 [==============================] - 0s 2ms/step - loss: 19543302.0000 - val_loss: 20697904.0000\n",
      "Epoch 224/300\n",
      "42/42 [==============================] - 0s 2ms/step - loss: 19545866.0000 - val_loss: 20690768.0000\n",
      "Epoch 225/300\n",
      "42/42 [==============================] - 0s 2ms/step - loss: 19531194.0000 - val_loss: 20683842.0000\n",
      "Epoch 226/300\n",
      "42/42 [==============================] - 0s 2ms/step - loss: 19520744.0000 - val_loss: 20661256.0000\n",
      "Epoch 227/300\n",
      "42/42 [==============================] - 0s 2ms/step - loss: 19523262.0000 - val_loss: 20654344.0000\n",
      "Epoch 228/300\n",
      "42/42 [==============================] - 0s 2ms/step - loss: 19518930.0000 - val_loss: 20637696.0000\n",
      "Epoch 229/300\n",
      "42/42 [==============================] - 0s 2ms/step - loss: 19480824.0000 - val_loss: 20629724.0000\n",
      "Epoch 230/300\n",
      "42/42 [==============================] - 0s 2ms/step - loss: 19453656.0000 - val_loss: 20640466.0000\n",
      "Epoch 231/300\n",
      "42/42 [==============================] - 0s 2ms/step - loss: 19462466.0000 - val_loss: 20602430.0000\n",
      "Epoch 232/300\n",
      "42/42 [==============================] - 0s 2ms/step - loss: 19450064.0000 - val_loss: 20601984.0000\n",
      "Epoch 233/300\n",
      "42/42 [==============================] - 0s 2ms/step - loss: 19452260.0000 - val_loss: 20582050.0000\n",
      "Epoch 234/300\n",
      "42/42 [==============================] - 0s 2ms/step - loss: 19427992.0000 - val_loss: 20571164.0000\n",
      "Epoch 235/300\n",
      "42/42 [==============================] - 0s 2ms/step - loss: 19433244.0000 - val_loss: 20555808.0000\n",
      "Epoch 236/300\n",
      "42/42 [==============================] - 0s 2ms/step - loss: 19398052.0000 - val_loss: 20574278.0000\n",
      "Epoch 237/300\n",
      "42/42 [==============================] - 0s 2ms/step - loss: 19413120.0000 - val_loss: 20532390.0000\n",
      "Epoch 238/300\n",
      "42/42 [==============================] - 0s 2ms/step - loss: 19384828.0000 - val_loss: 20538840.0000\n",
      "Epoch 239/300\n",
      "42/42 [==============================] - 0s 2ms/step - loss: 19392896.0000 - val_loss: 20517232.0000\n",
      "Epoch 240/300\n",
      "42/42 [==============================] - 0s 2ms/step - loss: 19385382.0000 - val_loss: 20519206.0000\n",
      "Epoch 241/300\n",
      "42/42 [==============================] - 0s 2ms/step - loss: 19361754.0000 - val_loss: 20491336.0000\n",
      "Epoch 242/300\n",
      "42/42 [==============================] - 0s 2ms/step - loss: 19351554.0000 - val_loss: 20502858.0000\n",
      "Epoch 243/300\n",
      "42/42 [==============================] - 0s 2ms/step - loss: 19375540.0000 - val_loss: 20508936.0000\n",
      "Epoch 244/300\n",
      "42/42 [==============================] - 0s 2ms/step - loss: 19338298.0000 - val_loss: 20460076.0000\n",
      "Epoch 245/300\n",
      "42/42 [==============================] - 0s 3ms/step - loss: 19340436.0000 - val_loss: 20522960.0000\n",
      "Epoch 246/300\n",
      "42/42 [==============================] - 0s 2ms/step - loss: 19339148.0000 - val_loss: 20436676.0000\n",
      "Epoch 247/300\n",
      "42/42 [==============================] - 0s 2ms/step - loss: 19300372.0000 - val_loss: 20431426.0000\n",
      "Epoch 248/300\n",
      "42/42 [==============================] - 0s 2ms/step - loss: 19308954.0000 - val_loss: 20438812.0000\n",
      "Epoch 249/300\n",
      "42/42 [==============================] - 0s 2ms/step - loss: 19283972.0000 - val_loss: 20408886.0000\n",
      "Epoch 250/300\n",
      "42/42 [==============================] - 0s 3ms/step - loss: 19273632.0000 - val_loss: 20397150.0000\n",
      "Epoch 251/300\n",
      "42/42 [==============================] - 0s 2ms/step - loss: 19303040.0000 - val_loss: 20390060.0000\n",
      "Epoch 252/300\n",
      "42/42 [==============================] - 0s 2ms/step - loss: 19264838.0000 - val_loss: 20379414.0000\n",
      "Epoch 253/300\n",
      "42/42 [==============================] - 0s 2ms/step - loss: 19240802.0000 - val_loss: 20438396.0000\n",
      "Epoch 254/300\n",
      "42/42 [==============================] - 0s 2ms/step - loss: 19266588.0000 - val_loss: 20368460.0000\n",
      "Epoch 255/300\n",
      "42/42 [==============================] - 0s 2ms/step - loss: 19243408.0000 - val_loss: 20370238.0000\n",
      "Epoch 256/300\n",
      "42/42 [==============================] - 0s 2ms/step - loss: 19220228.0000 - val_loss: 20361672.0000\n",
      "Epoch 257/300\n",
      "42/42 [==============================] - 0s 2ms/step - loss: 19218260.0000 - val_loss: 20364392.0000\n",
      "Epoch 258/300\n",
      "42/42 [==============================] - 0s 2ms/step - loss: 19214360.0000 - val_loss: 20325332.0000\n",
      "Epoch 259/300\n",
      "42/42 [==============================] - 0s 2ms/step - loss: 19201272.0000 - val_loss: 20309110.0000\n",
      "Epoch 260/300\n",
      "42/42 [==============================] - 0s 2ms/step - loss: 19190032.0000 - val_loss: 20303654.0000\n",
      "Epoch 261/300\n",
      "42/42 [==============================] - 0s 2ms/step - loss: 19182168.0000 - val_loss: 20294164.0000\n",
      "Epoch 262/300\n",
      "42/42 [==============================] - 0s 2ms/step - loss: 19207992.0000 - val_loss: 20286826.0000\n",
      "Epoch 263/300\n",
      "42/42 [==============================] - 0s 3ms/step - loss: 19177836.0000 - val_loss: 20287188.0000\n",
      "Epoch 264/300\n",
      "42/42 [==============================] - 0s 2ms/step - loss: 19155796.0000 - val_loss: 20263426.0000\n",
      "Epoch 265/300\n",
      "42/42 [==============================] - 0s 2ms/step - loss: 19148882.0000 - val_loss: 20259654.0000\n",
      "Epoch 266/300\n",
      "42/42 [==============================] - 0s 2ms/step - loss: 19143560.0000 - val_loss: 20266172.0000\n",
      "Epoch 267/300\n",
      "42/42 [==============================] - 0s 2ms/step - loss: 19135106.0000 - val_loss: 20294582.0000\n",
      "Epoch 268/300\n",
      "42/42 [==============================] - 0s 2ms/step - loss: 19120466.0000 - val_loss: 20247428.0000\n",
      "Epoch 269/300\n",
      "42/42 [==============================] - 0s 2ms/step - loss: 19115548.0000 - val_loss: 20289802.0000\n",
      "Epoch 270/300\n",
      "42/42 [==============================] - 0s 2ms/step - loss: 19107596.0000 - val_loss: 20221108.0000\n",
      "Epoch 271/300\n",
      "42/42 [==============================] - 0s 2ms/step - loss: 19103374.0000 - val_loss: 20208358.0000\n",
      "Epoch 272/300\n",
      "42/42 [==============================] - 0s 3ms/step - loss: 19096782.0000 - val_loss: 20223604.0000\n",
      "Epoch 273/300\n",
      "42/42 [==============================] - 0s 3ms/step - loss: 19083980.0000 - val_loss: 20178918.0000\n",
      "Epoch 274/300\n",
      "42/42 [==============================] - 0s 2ms/step - loss: 19065948.0000 - val_loss: 20195824.0000\n",
      "Epoch 275/300\n",
      "42/42 [==============================] - 0s 2ms/step - loss: 19066464.0000 - val_loss: 20165118.0000\n",
      "Epoch 276/300\n",
      "42/42 [==============================] - 0s 2ms/step - loss: 19058894.0000 - val_loss: 20164998.0000\n",
      "Epoch 277/300\n",
      "42/42 [==============================] - 0s 3ms/step - loss: 19053232.0000 - val_loss: 20143930.0000\n",
      "Epoch 278/300\n",
      "42/42 [==============================] - 0s 3ms/step - loss: 19032818.0000 - val_loss: 20133886.0000\n",
      "Epoch 279/300\n",
      "42/42 [==============================] - 0s 2ms/step - loss: 19013024.0000 - val_loss: 20172312.0000\n",
      "Epoch 280/300\n",
      "42/42 [==============================] - 0s 2ms/step - loss: 19035364.0000 - val_loss: 20121528.0000\n",
      "Epoch 281/300\n",
      "42/42 [==============================] - 0s 2ms/step - loss: 19032918.0000 - val_loss: 20108382.0000\n",
      "Epoch 282/300\n",
      "42/42 [==============================] - 0s 2ms/step - loss: 19009466.0000 - val_loss: 20096746.0000\n",
      "Epoch 283/300\n",
      "42/42 [==============================] - 0s 3ms/step - loss: 19001872.0000 - val_loss: 20168632.0000\n",
      "Epoch 284/300\n",
      "42/42 [==============================] - 0s 2ms/step - loss: 19025094.0000 - val_loss: 20105988.0000\n",
      "Epoch 285/300\n"
     ]
    },
    {
     "name": "stdout",
     "output_type": "stream",
     "text": [
      "42/42 [==============================] - 0s 2ms/step - loss: 18985362.0000 - val_loss: 20097966.0000\n",
      "Epoch 286/300\n",
      "42/42 [==============================] - 0s 2ms/step - loss: 18981812.0000 - val_loss: 20082742.0000\n",
      "Epoch 287/300\n",
      "42/42 [==============================] - 0s 2ms/step - loss: 18973210.0000 - val_loss: 20066304.0000\n",
      "Epoch 288/300\n",
      "42/42 [==============================] - 0s 2ms/step - loss: 18960654.0000 - val_loss: 20050124.0000\n",
      "Epoch 289/300\n",
      "42/42 [==============================] - 0s 2ms/step - loss: 18983824.0000 - val_loss: 20051266.0000\n",
      "Epoch 290/300\n",
      "42/42 [==============================] - 0s 2ms/step - loss: 18974136.0000 - val_loss: 20036748.0000\n",
      "Epoch 291/300\n",
      "42/42 [==============================] - 0s 2ms/step - loss: 18937672.0000 - val_loss: 20025584.0000\n",
      "Epoch 292/300\n",
      "42/42 [==============================] - 0s 2ms/step - loss: 18971168.0000 - val_loss: 20020276.0000\n",
      "Epoch 293/300\n",
      "42/42 [==============================] - 0s 2ms/step - loss: 18931606.0000 - val_loss: 20017710.0000\n",
      "Epoch 294/300\n",
      "42/42 [==============================] - 0s 2ms/step - loss: 18942746.0000 - val_loss: 20018160.0000\n",
      "Epoch 295/300\n",
      "42/42 [==============================] - 0s 2ms/step - loss: 18922202.0000 - val_loss: 20036906.0000\n",
      "Epoch 296/300\n",
      "42/42 [==============================] - 0s 2ms/step - loss: 18913864.0000 - val_loss: 20023710.0000\n",
      "Epoch 297/300\n",
      "42/42 [==============================] - 0s 2ms/step - loss: 18902272.0000 - val_loss: 20021888.0000\n",
      "Epoch 298/300\n",
      "42/42 [==============================] - 0s 2ms/step - loss: 18889810.0000 - val_loss: 19967548.0000\n",
      "Epoch 299/300\n",
      "42/42 [==============================] - 0s 2ms/step - loss: 18911784.0000 - val_loss: 20010088.0000\n",
      "Epoch 300/300\n",
      "42/42 [==============================] - 0s 2ms/step - loss: 18898152.0000 - val_loss: 19967490.0000\n"
     ]
    },
    {
     "data": {
      "text/plain": [
       "<keras.callbacks.History at 0x29368b66610>"
      ]
     },
     "execution_count": 117,
     "metadata": {},
     "output_type": "execute_result"
    }
   ],
   "source": [
    "model.fit(x = x_train,y = y_train, validation_data = (x_test,y_test),batch_size=250,epochs=300) #validation_data bizim manuel olarak yaprığımız test tahmin karşılaştırmasını otomatik olarak yapıyor,batch_size modele verileri kısım kısım veriyor"
   ]
  },
  {
   "cell_type": "code",
   "execution_count": 118,
   "id": "b32c17ce",
   "metadata": {},
   "outputs": [],
   "source": [
    "loss = model.history.history[\"loss\"]"
   ]
  },
  {
   "cell_type": "code",
   "execution_count": 119,
   "id": "ad87fce8",
   "metadata": {},
   "outputs": [
    {
     "data": {
      "text/plain": [
       "<Axes: >"
      ]
     },
     "execution_count": 119,
     "metadata": {},
     "output_type": "execute_result"
    },
    {
     "data": {
      "image/png": "[encoded data removed]",
      "text/plain": [
       "<Figure size 640x480 with 1 Axes>"
      ]
     },
     "metadata": {},
     "output_type": "display_data"
    }
   ],
   "source": [
    "sbn.lineplot(x = range(len(loss)),y =loss)"
   ]
  },
  {
   "cell_type": "code",
   "execution_count": 120,
   "id": "23faae59",
   "metadata": {},
   "outputs": [],
   "source": [
    "kayıpVeri = pd.DataFrame(model.history.history)"
   ]
  },
  {
   "cell_type": "code",
   "execution_count": 121,
   "id": "0b8915aa",
   "metadata": {},
   "outputs": [
    {
     "data": {
      "text/html": [
       "<div>\n",
       "<style scoped>\n",
       "    .dataframe tbody tr th:only-of-type {\n",
       "        vertical-align: middle;\n",
       "    }\n",
       "\n",
       "    .dataframe tbody tr th {\n",
       "        vertical-align: top;\n",
       "    }\n",
       "\n",
       "    .dataframe thead th {\n",
       "        text-align: right;\n",
       "    }\n",
       "</style>\n",
       "<table border=\"1\" class=\"dataframe\">\n",
       "  <thead>\n",
       "    <tr style=\"text-align: right;\">\n",
       "      <th></th>\n",
       "      <th>loss</th>\n",
       "      <th>val_loss</th>\n",
       "    </tr>\n",
       "  </thead>\n",
       "  <tbody>\n",
       "    <tr>\n",
       "      <th>0</th>\n",
       "      <td>677771776.0</td>\n",
       "      <td>674968640.0</td>\n",
       "    </tr>\n",
       "    <tr>\n",
       "      <th>1</th>\n",
       "      <td>677733760.0</td>\n",
       "      <td>674899328.0</td>\n",
       "    </tr>\n",
       "    <tr>\n",
       "      <th>2</th>\n",
       "      <td>677578048.0</td>\n",
       "      <td>674596160.0</td>\n",
       "    </tr>\n",
       "    <tr>\n",
       "      <th>3</th>\n",
       "      <td>676963968.0</td>\n",
       "      <td>673499456.0</td>\n",
       "    </tr>\n",
       "    <tr>\n",
       "      <th>4</th>\n",
       "      <td>674946624.0</td>\n",
       "      <td>670133824.0</td>\n",
       "    </tr>\n",
       "  </tbody>\n",
       "</table>\n",
       "</div>"
      ],
      "text/plain": [
       "          loss     val_loss\n",
       "0  677771776.0  674968640.0\n",
       "1  677733760.0  674899328.0\n",
       "2  677578048.0  674596160.0\n",
       "3  676963968.0  673499456.0\n",
       "4  674946624.0  670133824.0"
      ]
     },
     "execution_count": 121,
     "metadata": {},
     "output_type": "execute_result"
    }
   ],
   "source": [
    "kayıpVeri.head()        #hem norma kayıp hemde doğrulama kaybı gösteriliyor"
   ]
  },
  {
   "cell_type": "code",
   "execution_count": 122,
   "id": "3595233a",
   "metadata": {},
   "outputs": [
    {
     "data": {
      "text/plain": [
       "<Axes: >"
      ]
     },
     "execution_count": 122,
     "metadata": {},
     "output_type": "execute_result"
    },
    {
     "data": {
      "image/png": "[encoded data removed]",
      "text/plain": [
       "<Figure size 640x480 with 1 Axes>"
      ]
     },
     "metadata": {},
     "output_type": "display_data"
    }
   ],
   "source": [
    "kayıpVeri.plot()"
   ]
  },
  {
   "cell_type": "code",
   "execution_count": 123,
   "id": "c247669e",
   "metadata": {},
   "outputs": [],
   "source": [
    "from sklearn.metrics import mean_squared_error, mean_absolute_error"
   ]
  },
  {
   "cell_type": "code",
   "execution_count": 124,
   "id": "0ceec7fd",
   "metadata": {},
   "outputs": [
    {
     "name": "stdout",
     "output_type": "stream",
     "text": [
      "82/82 [==============================] - 0s 961us/step\n"
     ]
    }
   ],
   "source": [
    "tahminDizisi = model.predict(x_test)"
   ]
  },
  {
   "cell_type": "code",
   "execution_count": 125,
   "id": "3ff6bf94",
   "metadata": {},
   "outputs": [
    {
     "data": {
      "text/plain": [
       "3186.9056334820125"
      ]
     },
     "execution_count": 125,
     "metadata": {},
     "output_type": "execute_result"
    }
   ],
   "source": [
    "mean_absolute_error(y_test,tahminDizisi ) # tahminin sapma miktarı"
   ]
  },
  {
   "cell_type": "code",
   "execution_count": 126,
   "id": "ccdd4746",
   "metadata": {},
   "outputs": [
    {
     "data": {
      "text/html": [
       "<div>\n",
       "<style scoped>\n",
       "    .dataframe tbody tr th:only-of-type {\n",
       "        vertical-align: middle;\n",
       "    }\n",
       "\n",
       "    .dataframe tbody tr th {\n",
       "        vertical-align: top;\n",
       "    }\n",
       "\n",
       "    .dataframe thead th {\n",
       "        text-align: right;\n",
       "    }\n",
       "</style>\n",
       "<table border=\"1\" class=\"dataframe\">\n",
       "  <thead>\n",
       "    <tr style=\"text-align: right;\">\n",
       "      <th></th>\n",
       "      <th>year</th>\n",
       "      <th>price</th>\n",
       "      <th>mileage</th>\n",
       "      <th>tax</th>\n",
       "      <th>mpg</th>\n",
       "      <th>engineSize</th>\n",
       "    </tr>\n",
       "  </thead>\n",
       "  <tbody>\n",
       "    <tr>\n",
       "      <th>count</th>\n",
       "      <td>12988.000000</td>\n",
       "      <td>12988.000000</td>\n",
       "      <td>12988.000000</td>\n",
       "      <td>12988.000000</td>\n",
       "      <td>12988.000000</td>\n",
       "      <td>12988.000000</td>\n",
       "    </tr>\n",
       "    <tr>\n",
       "      <th>mean</th>\n",
       "      <td>2017.285725</td>\n",
       "      <td>24078.083385</td>\n",
       "      <td>22131.678626</td>\n",
       "      <td>129.677395</td>\n",
       "      <td>55.436565</td>\n",
       "      <td>2.051132</td>\n",
       "    </tr>\n",
       "    <tr>\n",
       "      <th>std</th>\n",
       "      <td>2.189679</td>\n",
       "      <td>9873.075676</td>\n",
       "      <td>21197.529957</td>\n",
       "      <td>65.165058</td>\n",
       "      <td>15.026767</td>\n",
       "      <td>0.532357</td>\n",
       "    </tr>\n",
       "    <tr>\n",
       "      <th>min</th>\n",
       "      <td>1997.000000</td>\n",
       "      <td>650.000000</td>\n",
       "      <td>1.000000</td>\n",
       "      <td>0.000000</td>\n",
       "      <td>1.100000</td>\n",
       "      <td>0.000000</td>\n",
       "    </tr>\n",
       "    <tr>\n",
       "      <th>25%</th>\n",
       "      <td>2016.000000</td>\n",
       "      <td>17357.500000</td>\n",
       "      <td>6314.750000</td>\n",
       "      <td>125.000000</td>\n",
       "      <td>45.600000</td>\n",
       "      <td>1.700000</td>\n",
       "    </tr>\n",
       "    <tr>\n",
       "      <th>50%</th>\n",
       "      <td>2018.000000</td>\n",
       "      <td>22299.000000</td>\n",
       "      <td>15369.500000</td>\n",
       "      <td>145.000000</td>\n",
       "      <td>56.500000</td>\n",
       "      <td>2.000000</td>\n",
       "    </tr>\n",
       "    <tr>\n",
       "      <th>75%</th>\n",
       "      <td>2019.000000</td>\n",
       "      <td>28716.750000</td>\n",
       "      <td>31982.250000</td>\n",
       "      <td>145.000000</td>\n",
       "      <td>64.200000</td>\n",
       "      <td>2.100000</td>\n",
       "    </tr>\n",
       "    <tr>\n",
       "      <th>max</th>\n",
       "      <td>2020.000000</td>\n",
       "      <td>65995.000000</td>\n",
       "      <td>259000.000000</td>\n",
       "      <td>580.000000</td>\n",
       "      <td>217.300000</td>\n",
       "      <td>6.200000</td>\n",
       "    </tr>\n",
       "  </tbody>\n",
       "</table>\n",
       "</div>"
      ],
      "text/plain": [
       "               year         price        mileage           tax           mpg  \\\n",
       "count  12988.000000  12988.000000   12988.000000  12988.000000  12988.000000   \n",
       "mean    2017.285725  24078.083385   22131.678626    129.677395     55.436565   \n",
       "std        2.189679   9873.075676   21197.529957     65.165058     15.026767   \n",
       "min     1997.000000    650.000000       1.000000      0.000000      1.100000   \n",
       "25%     2016.000000  17357.500000    6314.750000    125.000000     45.600000   \n",
       "50%     2018.000000  22299.000000   15369.500000    145.000000     56.500000   \n",
       "75%     2019.000000  28716.750000   31982.250000    145.000000     64.200000   \n",
       "max     2020.000000  65995.000000  259000.000000    580.000000    217.300000   \n",
       "\n",
       "         engineSize  \n",
       "count  12988.000000  \n",
       "mean       2.051132  \n",
       "std        0.532357  \n",
       "min        0.000000  \n",
       "25%        1.700000  \n",
       "50%        2.000000  \n",
       "75%        2.100000  \n",
       "max        6.200000  "
      ]
     },
     "execution_count": 126,
     "metadata": {},
     "output_type": "execute_result"
    }
   ],
   "source": [
    "dataFrame.describe()"
   ]
  },
  {
   "cell_type": "code",
   "execution_count": 127,
   "id": "92073692",
   "metadata": {},
   "outputs": [
    {
     "data": {
      "text/plain": [
       "[<matplotlib.lines.Line2D at 0x293696f70d0>]"
      ]
     },
     "execution_count": 127,
     "metadata": {},
     "output_type": "execute_result"
    },
    {
     "data": {
      "image/png": "[encoded data removed]",
      "text/plain": [
       "<Figure size 1500x900 with 1 Axes>"
      ]
     },
     "metadata": {},
     "output_type": "display_data"
    }
   ],
   "source": [
    "plt.figure(figsize=(15,9))\n",
    "plt.scatter(y_test,tahminDizisi)\n",
    "plt.plot(y_test,y_test,\"g-*\")"
   ]
  },
  {
   "cell_type": "code",
   "execution_count": 128,
   "id": "cb225680",
   "metadata": {},
   "outputs": [
    {
     "data": {
      "text/plain": [
       "year           2020.0\n",
       "price         65990.0\n",
       "mileage         999.0\n",
       "tax             145.0\n",
       "mpg              28.0\n",
       "engineSize        4.0\n",
       "Name: 5779, dtype: float64"
      ]
     },
     "execution_count": 128,
     "metadata": {},
     "output_type": "execute_result"
    }
   ],
   "source": [
    "dataFrame.iloc[2]"
   ]
  },
  {
   "cell_type": "code",
   "execution_count": 129,
   "id": "f9e96cc8",
   "metadata": {},
   "outputs": [],
   "source": [
    "yeniArabaSeries = dataFrame.drop(\"price\",axis = 1).iloc[2]"
   ]
  },
  {
   "cell_type": "code",
   "execution_count": 130,
   "id": "1a2f0359",
   "metadata": {},
   "outputs": [
    {
     "data": {
      "text/plain": [
       "year          2020.0\n",
       "mileage        999.0\n",
       "tax            145.0\n",
       "mpg             28.0\n",
       "engineSize       4.0\n",
       "Name: 5779, dtype: float64"
      ]
     },
     "execution_count": 130,
     "metadata": {},
     "output_type": "execute_result"
    }
   ],
   "source": [
    "yeniArabaSeries"
   ]
  },
  {
   "cell_type": "code",
   "execution_count": 131,
   "id": "c170fd4d",
   "metadata": {},
   "outputs": [],
   "source": [
    "#AS1 = {\"year\":2019, \"mileage\": 3398, \"tax\":145,\" }"
   ]
  },
  {
   "cell_type": "code",
   "execution_count": 132,
   "id": "002cd752",
   "metadata": {},
   "outputs": [
    {
     "data": {
      "text/html": [
       "<div>\n",
       "<style scoped>\n",
       "    .dataframe tbody tr th:only-of-type {\n",
       "        vertical-align: middle;\n",
       "    }\n",
       "\n",
       "    .dataframe tbody tr th {\n",
       "        vertical-align: top;\n",
       "    }\n",
       "\n",
       "    .dataframe thead th {\n",
       "        text-align: right;\n",
       "    }\n",
       "</style>\n",
       "<table border=\"1\" class=\"dataframe\">\n",
       "  <thead>\n",
       "    <tr style=\"text-align: right;\">\n",
       "      <th></th>\n",
       "      <th>year</th>\n",
       "      <th>price</th>\n",
       "      <th>mileage</th>\n",
       "      <th>tax</th>\n",
       "      <th>mpg</th>\n",
       "      <th>engineSize</th>\n",
       "    </tr>\n",
       "  </thead>\n",
       "  <tbody>\n",
       "    <tr>\n",
       "      <th>1932</th>\n",
       "      <td>2020</td>\n",
       "      <td>65995</td>\n",
       "      <td>200</td>\n",
       "      <td>145</td>\n",
       "      <td>31.7</td>\n",
       "      <td>3.0</td>\n",
       "    </tr>\n",
       "    <tr>\n",
       "      <th>6177</th>\n",
       "      <td>2019</td>\n",
       "      <td>65990</td>\n",
       "      <td>5076</td>\n",
       "      <td>150</td>\n",
       "      <td>30.4</td>\n",
       "      <td>3.0</td>\n",
       "    </tr>\n",
       "    <tr>\n",
       "      <th>5779</th>\n",
       "      <td>2020</td>\n",
       "      <td>65990</td>\n",
       "      <td>999</td>\n",
       "      <td>145</td>\n",
       "      <td>28.0</td>\n",
       "      <td>4.0</td>\n",
       "    </tr>\n",
       "    <tr>\n",
       "      <th>3191</th>\n",
       "      <td>2020</td>\n",
       "      <td>65980</td>\n",
       "      <td>3999</td>\n",
       "      <td>145</td>\n",
       "      <td>28.0</td>\n",
       "      <td>4.0</td>\n",
       "    </tr>\n",
       "    <tr>\n",
       "      <th>4727</th>\n",
       "      <td>2019</td>\n",
       "      <td>65000</td>\n",
       "      <td>3398</td>\n",
       "      <td>145</td>\n",
       "      <td>27.2</td>\n",
       "      <td>4.0</td>\n",
       "    </tr>\n",
       "  </tbody>\n",
       "</table>\n",
       "</div>"
      ],
      "text/plain": [
       "      year  price  mileage  tax   mpg  engineSize\n",
       "1932  2020  65995      200  145  31.7         3.0\n",
       "6177  2019  65990     5076  150  30.4         3.0\n",
       "5779  2020  65990      999  145  28.0         4.0\n",
       "3191  2020  65980     3999  145  28.0         4.0\n",
       "4727  2019  65000     3398  145  27.2         4.0"
      ]
     },
     "execution_count": 132,
     "metadata": {},
     "output_type": "execute_result"
    }
   ],
   "source": [
    "dataFrame.head()"
   ]
  },
  {
   "cell_type": "code",
   "execution_count": 133,
   "id": "91807216",
   "metadata": {},
   "outputs": [],
   "source": [
    "AS1 = scaler.transform(AS1)"
   ]
  },
  {
   "cell_type": "code",
   "execution_count": 134,
   "id": "7fe34e01",
   "metadata": {},
   "outputs": [
    {
     "name": "stdout",
     "output_type": "stream",
     "text": [
      "1/1 [==============================] - 0s 13ms/step\n"
     ]
    },
    {
     "data": {
      "text/plain": [
       "array([[16865.52]], dtype=float32)"
      ]
     },
     "execution_count": 134,
     "metadata": {},
     "output_type": "execute_result"
    }
   ],
   "source": [
    "model.predict(AS1)"
   ]
  },
  {
   "cell_type": "code",
   "execution_count": 135,
   "id": "2e8eab9f",
   "metadata": {},
   "outputs": [],
   "source": [
    "yeniArabaSeries = scaler.transform(yeniArabaSeries.values.reshape(-1,5))"
   ]
  },
  {
   "cell_type": "code",
   "execution_count": 136,
   "id": "614c7e58",
   "metadata": {},
   "outputs": [
    {
     "name": "stdout",
     "output_type": "stream",
     "text": [
      "1/1 [==============================] - 0s 7ms/step\n"
     ]
    },
    {
     "data": {
      "text/plain": [
       "array([[64712.426]], dtype=float32)"
      ]
     },
     "execution_count": 136,
     "metadata": {},
     "output_type": "execute_result"
    }
   ],
   "source": [
    "model.predict(yeniArabaSeries)"
   ]
  },
  {
   "cell_type": "code",
   "execution_count": 145,
   "id": "b7cf7d7f",
   "metadata": {},
   "outputs": [],
   "source": [
    "AS2 = {\"year\":2020, \"mileage\": 2398, \"tax\":145,\"mpg\":27.2, \"engineSize\":4.0 }"
   ]
  },
  {
   "cell_type": "code",
   "execution_count": 146,
   "id": "6f4f5681",
   "metadata": {},
   "outputs": [],
   "source": [
    "AS2Series = pd.Series(AS2)"
   ]
  },
  {
   "cell_type": "code",
   "execution_count": 147,
   "id": "a756259b",
   "metadata": {},
   "outputs": [],
   "source": [
    "AS2Series  = scaler.transform(AS2Series.values.reshape(-1,5))"
   ]
  },
  {
   "cell_type": "code",
   "execution_count": 148,
   "id": "2e1fa942",
   "metadata": {},
   "outputs": [
    {
     "name": "stdout",
     "output_type": "stream",
     "text": [
      "1/1 [==============================] - 0s 12ms/step\n"
     ]
    },
    {
     "data": {
      "text/plain": [
       "array([[64334.324]], dtype=float32)"
      ]
     },
     "execution_count": 148,
     "metadata": {},
     "output_type": "execute_result"
    }
   ],
   "source": [
    "model.predict(AS2Series)"
   ]
  },
  {
   "cell_type": "code",
   "execution_count": null,
   "id": "a7193790",
   "metadata": {},
   "outputs": [],
   "source": []
  },
  {
   "cell_type": "code",
   "execution_count": null,
   "id": "a637d5bd",
   "metadata": {},
   "outputs": [],
   "source": []
  },
  {
   "cell_type": "code",
   "execution_count": null,
   "id": "51802e20",
   "metadata": {},
   "outputs": [],
   "source": [
    "\n"
   ]
  }
 ],
 "metadata": {
  "kernelspec": {
   "display_name": "Python 3 (ipykernel)",
   "language": "python",
   "name": "python3"
  },
  "language_info": {
   "codemirror_mode": {
    "name": "ipython",
    "version": 3
   },
   "file_extension": ".py",
   "mimetype": "text/x-python",
   "name": "python",
   "nbconvert_exporter": "python",
   "pygments_lexer": "ipython3",
   "version": "3.9.13"
  }
 },
 "nbformat": 4,
 "nbformat_minor": 5
}
